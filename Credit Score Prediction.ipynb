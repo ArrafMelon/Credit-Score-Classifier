{
 "cells": [
  {
   "cell_type": "markdown",
   "id": "25a2f1a9",
   "metadata": {},
   "source": [
    "# Credit Score Classification"
   ]
  },
  {
   "cell_type": "markdown",
   "id": "9faf87cd",
   "metadata": {},
   "source": [
    "<img src=\"Credit score.jpg\" alt=\"Credit Score\" width=\"500\" height=\"400\">"
   ]
  },
  {
   "cell_type": "markdown",
   "id": "45e2bf1b",
   "metadata": {},
   "source": [
    "This model will predict an indivduals standings regarding their credit score. \n",
    "\n",
    "What the columns in the dataset represent:\n",
    "- ID: Unique Identification of an entry\n",
    "- Customer_ID: Unique identification of a person \n",
    "- Month: The Month of the year\n",
    "- Name: The name of the person\n",
    "- Age: The age of a person\n",
    "- SSN: The social security number of the person\n",
    "- Occupation: The occupation of the person\n",
    "- Annual_Income: How much the person makes a year\n",
    "- Monthly_Inhand_Salary: Monthly base salary of the individual\n",
    "- Num_Bank_Accounts: The number of bank accounts the person has\n",
    "- Num_Credit_Card: The number of credit cards the person has\n",
    "- Interest_Rate: Represents the interest rate on credit card (percentage)\n",
    "- Num_of_Loan: Represents the number of loans taken from the bank\n",
    "- Type_of_Loan: Represents the types of loan taken by a person\n",
    "- Delay_from_due_date: Represents the average number of days delayed from the payment date\n",
    "- Num_of_Delayed_Payment: Represents the average number of payments delayed by a person\n",
    "- Changed_Credit_Limit: Represents the percentage change in credit card limit\n",
    "- Num_Credit_Inquiries: Represents the number of credit card inquiries\n",
    "- Credit_Mix: Represents the classification of the mix of credits\n",
    "- Outstanding_Debt: Represents the remaining debt to be paid (in USD)\n",
    "- Credit_Utilization_Ratio: Represents the utilization ratio of credit card\n",
    "- Credit_History_Age: Represents the age of credit history of the person\n",
    "- Payment_of_Min_Amount: Represents whether only the minimum amount was paid by the person\n",
    "- Total_EMI_per_month: Represents the monthly EMI payments (in USD)\n",
    "- Amount_invested_monthly: Represents the monthly amount invested by the customer (in USD)\n",
    "- Payment_Behaviour: Represents the payment behavior of the customer (in USD)\n",
    "- Monthly_Balance: Represents the monthly balance amount of the customer (in USD)\n",
    "- Credit_Score: Represents the bracket of credit score (Poor, Standard, Good) (TARGET COLUMN)"
   ]
  },
  {
   "cell_type": "markdown",
   "id": "c8e76de8",
   "metadata": {},
   "source": [
    "#### Import Libraries"
   ]
  },
  {
   "cell_type": "code",
   "execution_count": 1,
   "id": "65b51e5c",
   "metadata": {},
   "outputs": [],
   "source": [
    "import pandas as pd\n",
    "import numpy as np\n",
    "import matplotlib.pyplot as plt\n",
    "import seaborn as sns\n",
    "import warnings\n",
    "from credit import upper_outlier, lower_outlier, df_transform"
   ]
  },
  {
   "cell_type": "markdown",
   "id": "00facb1e",
   "metadata": {},
   "source": [
    "#### Initial Data Exploration"
   ]
  },
  {
   "cell_type": "code",
   "execution_count": 2,
   "id": "694920b2",
   "metadata": {},
   "outputs": [],
   "source": [
    "warnings.filterwarnings(\"ignore\")"
   ]
  },
  {
   "cell_type": "code",
   "execution_count": 3,
   "id": "3dede83f",
   "metadata": {
    "scrolled": true
   },
   "outputs": [],
   "source": [
    "train = pd.read_csv('train.csv')\n",
    "test = pd.read_csv('test.csv')"
   ]
  },
  {
   "cell_type": "code",
   "execution_count": 4,
   "id": "adbb6bdf",
   "metadata": {},
   "outputs": [
    {
     "data": {
      "text/plain": [
       "Index(['ID', 'Customer_ID', 'Month', 'Name', 'Age', 'SSN', 'Occupation',\n",
       "       'Annual_Income', 'Monthly_Inhand_Salary', 'Num_Bank_Accounts',\n",
       "       'Num_Credit_Card', 'Interest_Rate', 'Num_of_Loan', 'Type_of_Loan',\n",
       "       'Delay_from_due_date', 'Num_of_Delayed_Payment', 'Changed_Credit_Limit',\n",
       "       'Num_Credit_Inquiries', 'Credit_Mix', 'Outstanding_Debt',\n",
       "       'Credit_Utilization_Ratio', 'Credit_History_Age',\n",
       "       'Payment_of_Min_Amount', 'Total_EMI_per_month',\n",
       "       'Amount_invested_monthly', 'Payment_Behaviour', 'Monthly_Balance',\n",
       "       'Credit_Score'],\n",
       "      dtype='object')"
      ]
     },
     "execution_count": 4,
     "metadata": {},
     "output_type": "execute_result"
    }
   ],
   "source": [
    "train.columns"
   ]
  },
  {
   "cell_type": "code",
   "execution_count": 5,
   "id": "6934f3f9",
   "metadata": {},
   "outputs": [
    {
     "data": {
      "text/html": [
       "<div>\n",
       "<style scoped>\n",
       "    .dataframe tbody tr th:only-of-type {\n",
       "        vertical-align: middle;\n",
       "    }\n",
       "\n",
       "    .dataframe tbody tr th {\n",
       "        vertical-align: top;\n",
       "    }\n",
       "\n",
       "    .dataframe thead th {\n",
       "        text-align: right;\n",
       "    }\n",
       "</style>\n",
       "<table border=\"1\" class=\"dataframe\">\n",
       "  <thead>\n",
       "    <tr style=\"text-align: right;\">\n",
       "      <th></th>\n",
       "      <th>ID</th>\n",
       "      <th>Customer_ID</th>\n",
       "      <th>Month</th>\n",
       "      <th>Name</th>\n",
       "      <th>Age</th>\n",
       "      <th>SSN</th>\n",
       "      <th>Occupation</th>\n",
       "      <th>Annual_Income</th>\n",
       "      <th>Monthly_Inhand_Salary</th>\n",
       "      <th>Num_Bank_Accounts</th>\n",
       "      <th>Num_Credit_Card</th>\n",
       "      <th>Interest_Rate</th>\n",
       "      <th>Num_of_Loan</th>\n",
       "      <th>Type_of_Loan</th>\n",
       "      <th>Delay_from_due_date</th>\n",
       "      <th>Num_of_Delayed_Payment</th>\n",
       "      <th>Changed_Credit_Limit</th>\n",
       "      <th>Num_Credit_Inquiries</th>\n",
       "      <th>Credit_Mix</th>\n",
       "      <th>Outstanding_Debt</th>\n",
       "      <th>Credit_Utilization_Ratio</th>\n",
       "      <th>Credit_History_Age</th>\n",
       "      <th>Payment_of_Min_Amount</th>\n",
       "      <th>Total_EMI_per_month</th>\n",
       "      <th>Amount_invested_monthly</th>\n",
       "      <th>Payment_Behaviour</th>\n",
       "      <th>Monthly_Balance</th>\n",
       "      <th>Credit_Score</th>\n",
       "    </tr>\n",
       "  </thead>\n",
       "  <tbody>\n",
       "    <tr>\n",
       "      <th>0</th>\n",
       "      <td>0x1602</td>\n",
       "      <td>CUS_0xd40</td>\n",
       "      <td>January</td>\n",
       "      <td>Aaron Maashoh</td>\n",
       "      <td>23</td>\n",
       "      <td>821-00-0265</td>\n",
       "      <td>Scientist</td>\n",
       "      <td>19114.12</td>\n",
       "      <td>1824.843333</td>\n",
       "      <td>3</td>\n",
       "      <td>4</td>\n",
       "      <td>3</td>\n",
       "      <td>4</td>\n",
       "      <td>Auto Loan, Credit-Builder Loan, Personal Loan,...</td>\n",
       "      <td>3</td>\n",
       "      <td>7</td>\n",
       "      <td>11.27</td>\n",
       "      <td>4.0</td>\n",
       "      <td>_</td>\n",
       "      <td>809.98</td>\n",
       "      <td>26.822620</td>\n",
       "      <td>22 Years and 1 Months</td>\n",
       "      <td>No</td>\n",
       "      <td>49.574949</td>\n",
       "      <td>80.41529543900253</td>\n",
       "      <td>High_spent_Small_value_payments</td>\n",
       "      <td>312.49408867943663</td>\n",
       "      <td>Good</td>\n",
       "    </tr>\n",
       "    <tr>\n",
       "      <th>1</th>\n",
       "      <td>0x1603</td>\n",
       "      <td>CUS_0xd40</td>\n",
       "      <td>February</td>\n",
       "      <td>Aaron Maashoh</td>\n",
       "      <td>23</td>\n",
       "      <td>821-00-0265</td>\n",
       "      <td>Scientist</td>\n",
       "      <td>19114.12</td>\n",
       "      <td>NaN</td>\n",
       "      <td>3</td>\n",
       "      <td>4</td>\n",
       "      <td>3</td>\n",
       "      <td>4</td>\n",
       "      <td>Auto Loan, Credit-Builder Loan, Personal Loan,...</td>\n",
       "      <td>-1</td>\n",
       "      <td>NaN</td>\n",
       "      <td>11.27</td>\n",
       "      <td>4.0</td>\n",
       "      <td>Good</td>\n",
       "      <td>809.98</td>\n",
       "      <td>31.944960</td>\n",
       "      <td>NaN</td>\n",
       "      <td>No</td>\n",
       "      <td>49.574949</td>\n",
       "      <td>118.28022162236736</td>\n",
       "      <td>Low_spent_Large_value_payments</td>\n",
       "      <td>284.62916249607184</td>\n",
       "      <td>Good</td>\n",
       "    </tr>\n",
       "    <tr>\n",
       "      <th>2</th>\n",
       "      <td>0x1604</td>\n",
       "      <td>CUS_0xd40</td>\n",
       "      <td>March</td>\n",
       "      <td>Aaron Maashoh</td>\n",
       "      <td>-500</td>\n",
       "      <td>821-00-0265</td>\n",
       "      <td>Scientist</td>\n",
       "      <td>19114.12</td>\n",
       "      <td>NaN</td>\n",
       "      <td>3</td>\n",
       "      <td>4</td>\n",
       "      <td>3</td>\n",
       "      <td>4</td>\n",
       "      <td>Auto Loan, Credit-Builder Loan, Personal Loan,...</td>\n",
       "      <td>3</td>\n",
       "      <td>7</td>\n",
       "      <td>_</td>\n",
       "      <td>4.0</td>\n",
       "      <td>Good</td>\n",
       "      <td>809.98</td>\n",
       "      <td>28.609352</td>\n",
       "      <td>22 Years and 3 Months</td>\n",
       "      <td>No</td>\n",
       "      <td>49.574949</td>\n",
       "      <td>81.699521264648</td>\n",
       "      <td>Low_spent_Medium_value_payments</td>\n",
       "      <td>331.2098628537912</td>\n",
       "      <td>Good</td>\n",
       "    </tr>\n",
       "  </tbody>\n",
       "</table>\n",
       "</div>"
      ],
      "text/plain": [
       "       ID Customer_ID     Month           Name   Age          SSN Occupation  \\\n",
       "0  0x1602   CUS_0xd40   January  Aaron Maashoh    23  821-00-0265  Scientist   \n",
       "1  0x1603   CUS_0xd40  February  Aaron Maashoh    23  821-00-0265  Scientist   \n",
       "2  0x1604   CUS_0xd40     March  Aaron Maashoh  -500  821-00-0265  Scientist   \n",
       "\n",
       "  Annual_Income  Monthly_Inhand_Salary  Num_Bank_Accounts  Num_Credit_Card  \\\n",
       "0      19114.12            1824.843333                  3                4   \n",
       "1      19114.12                    NaN                  3                4   \n",
       "2      19114.12                    NaN                  3                4   \n",
       "\n",
       "   Interest_Rate Num_of_Loan  \\\n",
       "0              3           4   \n",
       "1              3           4   \n",
       "2              3           4   \n",
       "\n",
       "                                        Type_of_Loan  Delay_from_due_date  \\\n",
       "0  Auto Loan, Credit-Builder Loan, Personal Loan,...                    3   \n",
       "1  Auto Loan, Credit-Builder Loan, Personal Loan,...                   -1   \n",
       "2  Auto Loan, Credit-Builder Loan, Personal Loan,...                    3   \n",
       "\n",
       "  Num_of_Delayed_Payment Changed_Credit_Limit  Num_Credit_Inquiries  \\\n",
       "0                      7                11.27                   4.0   \n",
       "1                    NaN                11.27                   4.0   \n",
       "2                      7                    _                   4.0   \n",
       "\n",
       "  Credit_Mix Outstanding_Debt  Credit_Utilization_Ratio  \\\n",
       "0          _           809.98                 26.822620   \n",
       "1       Good           809.98                 31.944960   \n",
       "2       Good           809.98                 28.609352   \n",
       "\n",
       "      Credit_History_Age Payment_of_Min_Amount  Total_EMI_per_month  \\\n",
       "0  22 Years and 1 Months                    No            49.574949   \n",
       "1                    NaN                    No            49.574949   \n",
       "2  22 Years and 3 Months                    No            49.574949   \n",
       "\n",
       "  Amount_invested_monthly                Payment_Behaviour  \\\n",
       "0       80.41529543900253  High_spent_Small_value_payments   \n",
       "1      118.28022162236736   Low_spent_Large_value_payments   \n",
       "2         81.699521264648  Low_spent_Medium_value_payments   \n",
       "\n",
       "      Monthly_Balance Credit_Score  \n",
       "0  312.49408867943663         Good  \n",
       "1  284.62916249607184         Good  \n",
       "2   331.2098628537912         Good  "
      ]
     },
     "execution_count": 5,
     "metadata": {},
     "output_type": "execute_result"
    }
   ],
   "source": [
    "pd.set_option('display.max_columns', None)\n",
    "train.head(3)"
   ]
  },
  {
   "cell_type": "code",
   "execution_count": 6,
   "id": "fa0228bb",
   "metadata": {},
   "outputs": [
    {
     "name": "stdout",
     "output_type": "stream",
     "text": [
      "<class 'pandas.core.frame.DataFrame'>\n",
      "RangeIndex: 100000 entries, 0 to 99999\n",
      "Data columns (total 28 columns):\n",
      " #   Column                    Non-Null Count   Dtype  \n",
      "---  ------                    --------------   -----  \n",
      " 0   ID                        100000 non-null  object \n",
      " 1   Customer_ID               100000 non-null  object \n",
      " 2   Month                     100000 non-null  object \n",
      " 3   Name                      90015 non-null   object \n",
      " 4   Age                       100000 non-null  object \n",
      " 5   SSN                       100000 non-null  object \n",
      " 6   Occupation                100000 non-null  object \n",
      " 7   Annual_Income             100000 non-null  object \n",
      " 8   Monthly_Inhand_Salary     84998 non-null   float64\n",
      " 9   Num_Bank_Accounts         100000 non-null  int64  \n",
      " 10  Num_Credit_Card           100000 non-null  int64  \n",
      " 11  Interest_Rate             100000 non-null  int64  \n",
      " 12  Num_of_Loan               100000 non-null  object \n",
      " 13  Type_of_Loan              88592 non-null   object \n",
      " 14  Delay_from_due_date       100000 non-null  int64  \n",
      " 15  Num_of_Delayed_Payment    92998 non-null   object \n",
      " 16  Changed_Credit_Limit      100000 non-null  object \n",
      " 17  Num_Credit_Inquiries      98035 non-null   float64\n",
      " 18  Credit_Mix                100000 non-null  object \n",
      " 19  Outstanding_Debt          100000 non-null  object \n",
      " 20  Credit_Utilization_Ratio  100000 non-null  float64\n",
      " 21  Credit_History_Age        90970 non-null   object \n",
      " 22  Payment_of_Min_Amount     100000 non-null  object \n",
      " 23  Total_EMI_per_month       100000 non-null  float64\n",
      " 24  Amount_invested_monthly   95521 non-null   object \n",
      " 25  Payment_Behaviour         100000 non-null  object \n",
      " 26  Monthly_Balance           98800 non-null   object \n",
      " 27  Credit_Score              100000 non-null  object \n",
      "dtypes: float64(4), int64(4), object(20)\n",
      "memory usage: 21.4+ MB\n"
     ]
    }
   ],
   "source": [
    "train.info()"
   ]
  },
  {
   "cell_type": "code",
   "execution_count": 7,
   "id": "3f5381b8",
   "metadata": {},
   "outputs": [
    {
     "data": {
      "text/html": [
       "<div>\n",
       "<style scoped>\n",
       "    .dataframe tbody tr th:only-of-type {\n",
       "        vertical-align: middle;\n",
       "    }\n",
       "\n",
       "    .dataframe tbody tr th {\n",
       "        vertical-align: top;\n",
       "    }\n",
       "\n",
       "    .dataframe thead th {\n",
       "        text-align: right;\n",
       "    }\n",
       "</style>\n",
       "<table border=\"1\" class=\"dataframe\">\n",
       "  <thead>\n",
       "    <tr style=\"text-align: right;\">\n",
       "      <th></th>\n",
       "      <th>Monthly_Inhand_Salary</th>\n",
       "      <th>Num_Bank_Accounts</th>\n",
       "      <th>Num_Credit_Card</th>\n",
       "      <th>Interest_Rate</th>\n",
       "      <th>Delay_from_due_date</th>\n",
       "      <th>Num_Credit_Inquiries</th>\n",
       "      <th>Credit_Utilization_Ratio</th>\n",
       "      <th>Total_EMI_per_month</th>\n",
       "    </tr>\n",
       "  </thead>\n",
       "  <tbody>\n",
       "    <tr>\n",
       "      <th>count</th>\n",
       "      <td>84998.000000</td>\n",
       "      <td>100000.000000</td>\n",
       "      <td>100000.00000</td>\n",
       "      <td>100000.000000</td>\n",
       "      <td>100000.000000</td>\n",
       "      <td>98035.000000</td>\n",
       "      <td>100000.000000</td>\n",
       "      <td>100000.000000</td>\n",
       "    </tr>\n",
       "    <tr>\n",
       "      <th>mean</th>\n",
       "      <td>4194.170850</td>\n",
       "      <td>17.091280</td>\n",
       "      <td>22.47443</td>\n",
       "      <td>72.466040</td>\n",
       "      <td>21.068780</td>\n",
       "      <td>27.754251</td>\n",
       "      <td>32.285173</td>\n",
       "      <td>1403.118217</td>\n",
       "    </tr>\n",
       "    <tr>\n",
       "      <th>std</th>\n",
       "      <td>3183.686167</td>\n",
       "      <td>117.404834</td>\n",
       "      <td>129.05741</td>\n",
       "      <td>466.422621</td>\n",
       "      <td>14.860104</td>\n",
       "      <td>193.177339</td>\n",
       "      <td>5.116875</td>\n",
       "      <td>8306.041270</td>\n",
       "    </tr>\n",
       "    <tr>\n",
       "      <th>min</th>\n",
       "      <td>303.645417</td>\n",
       "      <td>-1.000000</td>\n",
       "      <td>0.00000</td>\n",
       "      <td>1.000000</td>\n",
       "      <td>-5.000000</td>\n",
       "      <td>0.000000</td>\n",
       "      <td>20.000000</td>\n",
       "      <td>0.000000</td>\n",
       "    </tr>\n",
       "    <tr>\n",
       "      <th>25%</th>\n",
       "      <td>1625.568229</td>\n",
       "      <td>3.000000</td>\n",
       "      <td>4.00000</td>\n",
       "      <td>8.000000</td>\n",
       "      <td>10.000000</td>\n",
       "      <td>3.000000</td>\n",
       "      <td>28.052567</td>\n",
       "      <td>30.306660</td>\n",
       "    </tr>\n",
       "    <tr>\n",
       "      <th>50%</th>\n",
       "      <td>3093.745000</td>\n",
       "      <td>6.000000</td>\n",
       "      <td>5.00000</td>\n",
       "      <td>13.000000</td>\n",
       "      <td>18.000000</td>\n",
       "      <td>6.000000</td>\n",
       "      <td>32.305784</td>\n",
       "      <td>69.249473</td>\n",
       "    </tr>\n",
       "    <tr>\n",
       "      <th>75%</th>\n",
       "      <td>5957.448333</td>\n",
       "      <td>7.000000</td>\n",
       "      <td>7.00000</td>\n",
       "      <td>20.000000</td>\n",
       "      <td>28.000000</td>\n",
       "      <td>9.000000</td>\n",
       "      <td>36.496663</td>\n",
       "      <td>161.224249</td>\n",
       "    </tr>\n",
       "    <tr>\n",
       "      <th>max</th>\n",
       "      <td>15204.633333</td>\n",
       "      <td>1798.000000</td>\n",
       "      <td>1499.00000</td>\n",
       "      <td>5797.000000</td>\n",
       "      <td>67.000000</td>\n",
       "      <td>2597.000000</td>\n",
       "      <td>50.000000</td>\n",
       "      <td>82331.000000</td>\n",
       "    </tr>\n",
       "  </tbody>\n",
       "</table>\n",
       "</div>"
      ],
      "text/plain": [
       "       Monthly_Inhand_Salary  Num_Bank_Accounts  Num_Credit_Card  \\\n",
       "count           84998.000000      100000.000000     100000.00000   \n",
       "mean             4194.170850          17.091280         22.47443   \n",
       "std              3183.686167         117.404834        129.05741   \n",
       "min               303.645417          -1.000000          0.00000   \n",
       "25%              1625.568229           3.000000          4.00000   \n",
       "50%              3093.745000           6.000000          5.00000   \n",
       "75%              5957.448333           7.000000          7.00000   \n",
       "max             15204.633333        1798.000000       1499.00000   \n",
       "\n",
       "       Interest_Rate  Delay_from_due_date  Num_Credit_Inquiries  \\\n",
       "count  100000.000000        100000.000000          98035.000000   \n",
       "mean       72.466040            21.068780             27.754251   \n",
       "std       466.422621            14.860104            193.177339   \n",
       "min         1.000000            -5.000000              0.000000   \n",
       "25%         8.000000            10.000000              3.000000   \n",
       "50%        13.000000            18.000000              6.000000   \n",
       "75%        20.000000            28.000000              9.000000   \n",
       "max      5797.000000            67.000000           2597.000000   \n",
       "\n",
       "       Credit_Utilization_Ratio  Total_EMI_per_month  \n",
       "count             100000.000000        100000.000000  \n",
       "mean                  32.285173          1403.118217  \n",
       "std                    5.116875          8306.041270  \n",
       "min                   20.000000             0.000000  \n",
       "25%                   28.052567            30.306660  \n",
       "50%                   32.305784            69.249473  \n",
       "75%                   36.496663           161.224249  \n",
       "max                   50.000000         82331.000000  "
      ]
     },
     "execution_count": 7,
     "metadata": {},
     "output_type": "execute_result"
    }
   ],
   "source": [
    "train.describe()"
   ]
  },
  {
   "cell_type": "markdown",
   "id": "0eb44219",
   "metadata": {},
   "source": [
    "As we can see, there are a couple of problems in this dataframe. Such problems are:\n",
    "- Null Values, the solution may be to:\n",
    "  - Remove columns which have too many null values\n",
    "  - Remove Specific rows\n",
    "  - Fill in the null values with a arbritrary value (the mean of the column etc).\n",
    "  \n",
    "- Some columns, such as 'Num_Bank_Accounts' have a minimum value of -1, which cannot be possible since someone cannot have a negative bank account.\n",
    "\n",
    "- Useless columns not needed for prediction.\n",
    "\n",
    "- Columns such as 'Payment_Behaviour' can not be used for prediction as it is a string column, but the information is valuable so it needs to somehow be converted to a numeric column."
   ]
  },
  {
   "cell_type": "code",
   "execution_count": 8,
   "id": "d589382b",
   "metadata": {
    "scrolled": true
   },
   "outputs": [
    {
     "data": {
      "text/plain": [
       "Standard    53174\n",
       "Poor        28998\n",
       "Good        17828\n",
       "Name: Credit_Score, dtype: int64"
      ]
     },
     "execution_count": 8,
     "metadata": {},
     "output_type": "execute_result"
    }
   ],
   "source": [
    "train['Credit_Score'].value_counts()"
   ]
  },
  {
   "cell_type": "markdown",
   "id": "edcf6284",
   "metadata": {},
   "source": [
    "There is an imbalance in the training target columns which we will have to find a way to work around."
   ]
  },
  {
   "cell_type": "code",
   "execution_count": 9,
   "id": "7974f430",
   "metadata": {},
   "outputs": [
    {
     "data": {
      "text/plain": [
       "(100000, 28)"
      ]
     },
     "execution_count": 9,
     "metadata": {},
     "output_type": "execute_result"
    }
   ],
   "source": [
    "train.shape"
   ]
  },
  {
   "cell_type": "code",
   "execution_count": 10,
   "id": "30ced08d",
   "metadata": {},
   "outputs": [
    {
     "data": {
      "text/plain": [
       "(50000, 27)"
      ]
     },
     "execution_count": 10,
     "metadata": {},
     "output_type": "execute_result"
    }
   ],
   "source": [
    "test.shape"
   ]
  },
  {
   "cell_type": "markdown",
   "id": "48b2a6aa",
   "metadata": {},
   "source": [
    "## Data Cleaning\n",
    "Any type of data cleaning we do to the training dataset, we should also perform on the testing dataset."
   ]
  },
  {
   "cell_type": "markdown",
   "id": "589bb1c1",
   "metadata": {},
   "source": [
    "#### Drop unnecessary columns\n",
    "One thing there is to notice is that, this dataset has indivduals logged in different periods of time. Even though this is the case, the name, and customer id should not matter since its the actual financial data which determines a persons credit score."
   ]
  },
  {
   "cell_type": "code",
   "execution_count": 11,
   "id": "f690ebb6",
   "metadata": {},
   "outputs": [],
   "source": [
    "col_to_drop = ['Age','SSN','ID','Customer_ID','Name','Month','Occupation']\n",
    "train = train.drop(columns=col_to_drop)\n",
    "test = test.drop(columns=col_to_drop)"
   ]
  },
  {
   "cell_type": "markdown",
   "id": "533cb1c7",
   "metadata": {},
   "source": [
    "#### Column names\n",
    "Change column names to all lowercase letters seperated by '_'"
   ]
  },
  {
   "cell_type": "code",
   "execution_count": 12,
   "id": "df03577b",
   "metadata": {},
   "outputs": [],
   "source": [
    "train.columns = train.columns.str.lower()\n",
    "test.columns = test.columns.str.lower()"
   ]
  },
  {
   "cell_type": "markdown",
   "id": "0e86ddfe",
   "metadata": {},
   "source": [
    "#### Change credit score labels\n",
    "- 0 if Poor\n",
    "- 1 if Standard\n",
    "- 2 if Good"
   ]
  },
  {
   "cell_type": "code",
   "execution_count": 13,
   "id": "263e85b3",
   "metadata": {},
   "outputs": [],
   "source": [
    "replacement = {\n",
    "    'Poor': 0,\n",
    "    'Standard': 1,\n",
    "    'Good': 2\n",
    "}"
   ]
  },
  {
   "cell_type": "code",
   "execution_count": 14,
   "id": "d1a8ca14",
   "metadata": {},
   "outputs": [],
   "source": [
    "train['credit_score'] = train['credit_score'].replace(replacement)"
   ]
  },
  {
   "cell_type": "markdown",
   "id": "6623281c",
   "metadata": {},
   "source": [
    "#### Correct Datatype for each column\n",
    "There are a lot of object datatypes which should be converted to a float/int for predictions"
   ]
  },
  {
   "cell_type": "code",
   "execution_count": 15,
   "id": "463b01ee",
   "metadata": {},
   "outputs": [],
   "source": [
    "float_cols = ['annual_income','changed_credit_limit','outstanding_debt','amount_invested_monthly','monthly_balance']\n",
    "int_cols_train = ['num_of_loan','num_of_delayed_payment','credit_score']\n",
    "int_cols = ['num_of_loan','num_of_delayed_payment']"
   ]
  },
  {
   "cell_type": "code",
   "execution_count": 16,
   "id": "f9b97e80",
   "metadata": {},
   "outputs": [],
   "source": [
    "## Convert float columns to float datatypes and replace any useless characters\n",
    "train[float_cols] = train[float_cols].astype(str).replace({'_':'','':np.nan},regex=True).astype(float)\n",
    "test[float_cols] = test[float_cols].astype(str).replace({'_':'','':np.nan},regex=True).astype(float)"
   ]
  },
  {
   "cell_type": "code",
   "execution_count": 17,
   "id": "ff92cf79",
   "metadata": {
    "scrolled": true
   },
   "outputs": [],
   "source": [
    "## Since NaN cannot convert to directly to int, use Int64 datatype to handle float NaN values\n",
    "train[int_cols_train] = train[int_cols_train].astype(str).replace({'_':'','':np.nan,'nan':np.nan},regex=True).astype(float).astype('Int64')\n",
    "test[int_cols] = test[int_cols].astype(str).replace({'_':'','':np.nan,'nan':np.nan},regex=True).astype(float).astype('Int64')"
   ]
  },
  {
   "cell_type": "code",
   "execution_count": 18,
   "id": "0a63bea6",
   "metadata": {},
   "outputs": [
    {
     "data": {
      "text/plain": [
       "annual_income               float64\n",
       "monthly_inhand_salary       float64\n",
       "num_bank_accounts             int64\n",
       "num_credit_card               int64\n",
       "interest_rate                 int64\n",
       "num_of_loan                   Int64\n",
       "type_of_loan                 object\n",
       "delay_from_due_date           int64\n",
       "num_of_delayed_payment        Int64\n",
       "changed_credit_limit        float64\n",
       "num_credit_inquiries        float64\n",
       "credit_mix                   object\n",
       "outstanding_debt            float64\n",
       "credit_utilization_ratio    float64\n",
       "credit_history_age           object\n",
       "payment_of_min_amount        object\n",
       "total_emi_per_month         float64\n",
       "amount_invested_monthly     float64\n",
       "payment_behaviour            object\n",
       "monthly_balance             float64\n",
       "credit_score                  Int64\n",
       "dtype: object"
      ]
     },
     "execution_count": 18,
     "metadata": {},
     "output_type": "execute_result"
    }
   ],
   "source": [
    "train.dtypes"
   ]
  },
  {
   "cell_type": "code",
   "execution_count": 19,
   "id": "8b03ad61",
   "metadata": {
    "scrolled": false
   },
   "outputs": [
    {
     "data": {
      "text/plain": [
       "annual_income               float64\n",
       "monthly_inhand_salary       float64\n",
       "num_bank_accounts             int64\n",
       "num_credit_card               int64\n",
       "interest_rate                 int64\n",
       "num_of_loan                   Int64\n",
       "type_of_loan                 object\n",
       "delay_from_due_date           int64\n",
       "num_of_delayed_payment        Int64\n",
       "changed_credit_limit        float64\n",
       "num_credit_inquiries        float64\n",
       "credit_mix                   object\n",
       "outstanding_debt            float64\n",
       "credit_utilization_ratio    float64\n",
       "credit_history_age           object\n",
       "payment_of_min_amount        object\n",
       "total_emi_per_month         float64\n",
       "amount_invested_monthly     float64\n",
       "payment_behaviour            object\n",
       "monthly_balance             float64\n",
       "dtype: object"
      ]
     },
     "execution_count": 19,
     "metadata": {},
     "output_type": "execute_result"
    }
   ],
   "source": [
    "test.dtypes"
   ]
  },
  {
   "cell_type": "markdown",
   "id": "c0e9b1fb",
   "metadata": {},
   "source": [
    "#### Credit History Age to only account for year"
   ]
  },
  {
   "cell_type": "code",
   "execution_count": 20,
   "id": "5d7b8419",
   "metadata": {},
   "outputs": [],
   "source": [
    "train['credit_history_age'] = train['credit_history_age'].str[:2].astype('float').astype('Int64')\n",
    "test['credit_history_age'] = test['credit_history_age'].str[:2].astype('float').astype('Int64')"
   ]
  },
  {
   "cell_type": "markdown",
   "id": "f0c0cab0",
   "metadata": {},
   "source": [
    "#### Handling NaN values\n",
    "When predicting, our dataframe should not contain any NaN values so we should properly handle them.\n",
    "\n",
    "Some methods of handling NaN values:\n",
    "- Deleting rows with NaN\n",
    "- Deleting columns with too many NaN\n",
    "- inputting a value such as the mean of a column in every NaN value"
   ]
  },
  {
   "cell_type": "code",
   "execution_count": 21,
   "id": "debf3a0a",
   "metadata": {
    "scrolled": false
   },
   "outputs": [
    {
     "data": {
      "text/plain": [
       "monthly_inhand_salary      15002\n",
       "type_of_loan               11408\n",
       "num_of_delayed_payment      7002\n",
       "changed_credit_limit        2091\n",
       "num_credit_inquiries        1965\n",
       "credit_history_age          9030\n",
       "amount_invested_monthly     4479\n",
       "monthly_balance             1200\n",
       "dtype: int64"
      ]
     },
     "execution_count": 21,
     "metadata": {},
     "output_type": "execute_result"
    }
   ],
   "source": [
    "## What columns actually have NaN values?\n",
    "train.isnull().sum()[train.isnull().sum()>0]"
   ]
  },
  {
   "cell_type": "code",
   "execution_count": 22,
   "id": "0da73bc6",
   "metadata": {
    "scrolled": true
   },
   "outputs": [
    {
     "data": {
      "text/plain": [
       "monthly_inhand_salary      7498\n",
       "type_of_loan               5704\n",
       "num_of_delayed_payment     3498\n",
       "changed_credit_limit       1059\n",
       "num_credit_inquiries       1035\n",
       "credit_history_age         4470\n",
       "amount_invested_monthly    2271\n",
       "monthly_balance             562\n",
       "dtype: int64"
      ]
     },
     "execution_count": 22,
     "metadata": {},
     "output_type": "execute_result"
    }
   ],
   "source": [
    "test.isnull().sum()[test.isnull().sum()>0]"
   ]
  },
  {
   "cell_type": "code",
   "execution_count": 23,
   "id": "e5b0d74e",
   "metadata": {},
   "outputs": [
    {
     "data": {
      "image/png": "[encoded data removed]",
      "text/plain": [
       "<Figure size 720x720 with 2 Axes>"
      ]
     },
     "metadata": {
      "needs_background": "light"
     },
     "output_type": "display_data"
    }
   ],
   "source": [
    "matrix = np.triu(train.corr())\n",
    "plt.figure(figsize=(10,10))\n",
    "sns.heatmap(train.corr(), annot = True, fmt = \".2f\", mask=matrix, vmin=-1.0, vmax=1.0)\n",
    "plt.show()"
   ]
  },
  {
   "cell_type": "markdown",
   "id": "7cc8230f",
   "metadata": {},
   "source": [
    "Monthly inhand salary, changed credit limit, and credit age history all have moderate - strong correlation with outstanding debt so we can possibly use outstanding debt to deal with some of these columns' null values."
   ]
  },
  {
   "cell_type": "code",
   "execution_count": 24,
   "id": "b156a13c",
   "metadata": {},
   "outputs": [
    {
     "data": {
      "image/png": "[encoded data removed]",
      "text/plain": [
       "<Figure size 1080x360 with 2 Axes>"
      ]
     },
     "metadata": {
      "needs_background": "light"
     },
     "output_type": "display_data"
    }
   ],
   "source": [
    "## Lets see correlation between credit_history_age and outstanding_debt\n",
    "## Group by the credit history age with the mean of the debt of each age as the aggregate function\n",
    "credit_debt_df = pd.DataFrame({'outstanding_debt':train['outstanding_debt'], 'credit_history_age':train['credit_history_age']})\n",
    "credit_debt_df = credit_debt_df.dropna()\n",
    "\n",
    "credit_debt_df_group = credit_debt_df.groupby('credit_history_age').outstanding_debt.agg('mean')\n",
    "\n",
    "plt.figure(figsize=(15,5))\n",
    "plt.subplot(1,2,1)\n",
    "plt.scatter(credit_debt_df['credit_history_age'].unique(), credit_debt_df_group)\n",
    "plt.title('Average outstanding debt per age')\n",
    "\n",
    "plt.subplot(1,2,2)\n",
    "plt.scatter(credit_debt_df['credit_history_age'], credit_debt_df['outstanding_debt'])\n",
    "plt.title('Outstanding debt per age')\n",
    "plt.show()"
   ]
  },
  {
   "cell_type": "markdown",
   "id": "dc2edce7",
   "metadata": {},
   "source": [
    "From the relation we see here, even though outstanding debt and credit age history have very high correlation, it would be quite hard to pinpoint what values the null should be in credit age history."
   ]
  },
  {
   "cell_type": "code",
   "execution_count": 25,
   "id": "24d8d78b",
   "metadata": {},
   "outputs": [
    {
     "data": {
      "text/html": [
       "<div>\n",
       "<style scoped>\n",
       "    .dataframe tbody tr th:only-of-type {\n",
       "        vertical-align: middle;\n",
       "    }\n",
       "\n",
       "    .dataframe tbody tr th {\n",
       "        vertical-align: top;\n",
       "    }\n",
       "\n",
       "    .dataframe thead th {\n",
       "        text-align: right;\n",
       "    }\n",
       "</style>\n",
       "<table border=\"1\" class=\"dataframe\">\n",
       "  <thead>\n",
       "    <tr style=\"text-align: right;\">\n",
       "      <th></th>\n",
       "      <th>annual_income</th>\n",
       "      <th>monthly_inhand_salary</th>\n",
       "    </tr>\n",
       "  </thead>\n",
       "  <tbody>\n",
       "    <tr>\n",
       "      <th>0</th>\n",
       "      <td>19114.12</td>\n",
       "      <td>1824.843333</td>\n",
       "    </tr>\n",
       "    <tr>\n",
       "      <th>8</th>\n",
       "      <td>34847.84</td>\n",
       "      <td>3037.986667</td>\n",
       "    </tr>\n",
       "    <tr>\n",
       "      <th>16</th>\n",
       "      <td>143162.64</td>\n",
       "      <td>12187.220000</td>\n",
       "    </tr>\n",
       "    <tr>\n",
       "      <th>24</th>\n",
       "      <td>30689.89</td>\n",
       "      <td>2612.490833</td>\n",
       "    </tr>\n",
       "    <tr>\n",
       "      <th>32</th>\n",
       "      <td>35547.71</td>\n",
       "      <td>2853.309167</td>\n",
       "    </tr>\n",
       "    <tr>\n",
       "      <th>40</th>\n",
       "      <td>73928.46</td>\n",
       "      <td>NaN</td>\n",
       "    </tr>\n",
       "    <tr>\n",
       "      <th>48</th>\n",
       "      <td>131313.40</td>\n",
       "      <td>11242.783333</td>\n",
       "    </tr>\n",
       "    <tr>\n",
       "      <th>54</th>\n",
       "      <td>10909427.00</td>\n",
       "      <td>NaN</td>\n",
       "    </tr>\n",
       "    <tr>\n",
       "      <th>56</th>\n",
       "      <td>34081.38</td>\n",
       "      <td>NaN</td>\n",
       "    </tr>\n",
       "    <tr>\n",
       "      <th>64</th>\n",
       "      <td>114838.41</td>\n",
       "      <td>9843.867500</td>\n",
       "    </tr>\n",
       "    <tr>\n",
       "      <th>72</th>\n",
       "      <td>31370.80</td>\n",
       "      <td>2825.233333</td>\n",
       "    </tr>\n",
       "    <tr>\n",
       "      <th>80</th>\n",
       "      <td>33751.27</td>\n",
       "      <td>2948.605833</td>\n",
       "    </tr>\n",
       "    <tr>\n",
       "      <th>88</th>\n",
       "      <td>88640.24</td>\n",
       "      <td>7266.686667</td>\n",
       "    </tr>\n",
       "    <tr>\n",
       "      <th>96</th>\n",
       "      <td>54392.16</td>\n",
       "      <td>4766.680000</td>\n",
       "    </tr>\n",
       "  </tbody>\n",
       "</table>\n",
       "</div>"
      ],
      "text/plain": [
       "    annual_income  monthly_inhand_salary\n",
       "0        19114.12            1824.843333\n",
       "8        34847.84            3037.986667\n",
       "16      143162.64           12187.220000\n",
       "24       30689.89            2612.490833\n",
       "32       35547.71            2853.309167\n",
       "40       73928.46                    NaN\n",
       "48      131313.40           11242.783333\n",
       "54    10909427.00                    NaN\n",
       "56       34081.38                    NaN\n",
       "64      114838.41            9843.867500\n",
       "72       31370.80            2825.233333\n",
       "80       33751.27            2948.605833\n",
       "88       88640.24            7266.686667\n",
       "96       54392.16            4766.680000"
      ]
     },
     "execution_count": 25,
     "metadata": {},
     "output_type": "execute_result"
    }
   ],
   "source": [
    "train[['annual_income','monthly_inhand_salary']].drop_duplicates(subset=['annual_income']).head(14)"
   ]
  },
  {
   "cell_type": "markdown",
   "id": "93642c02",
   "metadata": {},
   "source": [
    "Since they both practically mean the same thing, we can just get rid of the monthly_inhand_salary column. The number of credit inquiries would not change the credit score if a person, so we can drop that as well."
   ]
  },
  {
   "cell_type": "code",
   "execution_count": 26,
   "id": "d5f4f03c",
   "metadata": {},
   "outputs": [],
   "source": [
    "train = train.drop(columns=['num_credit_inquiries','monthly_inhand_salary'])\n",
    "test = test.drop(columns=['num_credit_inquiries','monthly_inhand_salary'])"
   ]
  },
  {
   "cell_type": "markdown",
   "id": "8a852b0a",
   "metadata": {},
   "source": [
    "We should not replace any null values with the average, median, or mode of the column since everything factors on the individual person. Since there is a significant amount of data in the set, we should be fine in dropping the rows containing any more of the NaN values."
   ]
  },
  {
   "cell_type": "code",
   "execution_count": 27,
   "id": "a38898ba",
   "metadata": {},
   "outputs": [],
   "source": [
    "train = train.dropna(subset = ['num_of_delayed_payment','changed_credit_limit','credit_history_age',\n",
    "                              'amount_invested_monthly','monthly_balance'])\n",
    "test = test.dropna(subset = ['num_of_delayed_payment','changed_credit_limit','credit_history_age',\n",
    "                              'amount_invested_monthly','monthly_balance'])"
   ]
  },
  {
   "cell_type": "code",
   "execution_count": 28,
   "id": "73fb45a0",
   "metadata": {},
   "outputs": [
    {
     "data": {
      "text/plain": [
       "(78189, 19)"
      ]
     },
     "execution_count": 28,
     "metadata": {},
     "output_type": "execute_result"
    }
   ],
   "source": [
    "train.shape"
   ]
  },
  {
   "cell_type": "code",
   "execution_count": 29,
   "id": "071f7097",
   "metadata": {},
   "outputs": [
    {
     "data": {
      "text/plain": [
       "(39135, 18)"
      ]
     },
     "execution_count": 29,
     "metadata": {},
     "output_type": "execute_result"
    }
   ],
   "source": [
    "test.shape"
   ]
  },
  {
   "cell_type": "code",
   "execution_count": 30,
   "id": "0d7b1148",
   "metadata": {},
   "outputs": [
    {
     "data": {
      "text/html": [
       "<div>\n",
       "<style scoped>\n",
       "    .dataframe tbody tr th:only-of-type {\n",
       "        vertical-align: middle;\n",
       "    }\n",
       "\n",
       "    .dataframe tbody tr th {\n",
       "        vertical-align: top;\n",
       "    }\n",
       "\n",
       "    .dataframe thead th {\n",
       "        text-align: right;\n",
       "    }\n",
       "</style>\n",
       "<table border=\"1\" class=\"dataframe\">\n",
       "  <thead>\n",
       "    <tr style=\"text-align: right;\">\n",
       "      <th></th>\n",
       "      <th>annual_income</th>\n",
       "      <th>num_bank_accounts</th>\n",
       "      <th>num_credit_card</th>\n",
       "      <th>interest_rate</th>\n",
       "      <th>num_of_loan</th>\n",
       "      <th>type_of_loan</th>\n",
       "      <th>delay_from_due_date</th>\n",
       "      <th>num_of_delayed_payment</th>\n",
       "      <th>changed_credit_limit</th>\n",
       "      <th>credit_mix</th>\n",
       "      <th>outstanding_debt</th>\n",
       "      <th>credit_utilization_ratio</th>\n",
       "      <th>credit_history_age</th>\n",
       "      <th>payment_of_min_amount</th>\n",
       "      <th>total_emi_per_month</th>\n",
       "      <th>amount_invested_monthly</th>\n",
       "      <th>payment_behaviour</th>\n",
       "      <th>monthly_balance</th>\n",
       "      <th>credit_score</th>\n",
       "    </tr>\n",
       "  </thead>\n",
       "  <tbody>\n",
       "    <tr>\n",
       "      <th>0</th>\n",
       "      <td>19114.12</td>\n",
       "      <td>3</td>\n",
       "      <td>4</td>\n",
       "      <td>3</td>\n",
       "      <td>4</td>\n",
       "      <td>Auto Loan, Credit-Builder Loan, Personal Loan,...</td>\n",
       "      <td>3</td>\n",
       "      <td>7</td>\n",
       "      <td>11.27</td>\n",
       "      <td>_</td>\n",
       "      <td>809.98</td>\n",
       "      <td>26.822620</td>\n",
       "      <td>22</td>\n",
       "      <td>No</td>\n",
       "      <td>49.574949</td>\n",
       "      <td>80.415295</td>\n",
       "      <td>High_spent_Small_value_payments</td>\n",
       "      <td>312.494089</td>\n",
       "      <td>2</td>\n",
       "    </tr>\n",
       "    <tr>\n",
       "      <th>3</th>\n",
       "      <td>19114.12</td>\n",
       "      <td>3</td>\n",
       "      <td>4</td>\n",
       "      <td>3</td>\n",
       "      <td>4</td>\n",
       "      <td>Auto Loan, Credit-Builder Loan, Personal Loan,...</td>\n",
       "      <td>5</td>\n",
       "      <td>4</td>\n",
       "      <td>6.27</td>\n",
       "      <td>Good</td>\n",
       "      <td>809.98</td>\n",
       "      <td>31.377862</td>\n",
       "      <td>22</td>\n",
       "      <td>No</td>\n",
       "      <td>49.574949</td>\n",
       "      <td>199.458074</td>\n",
       "      <td>Low_spent_Small_value_payments</td>\n",
       "      <td>223.451310</td>\n",
       "      <td>2</td>\n",
       "    </tr>\n",
       "    <tr>\n",
       "      <th>5</th>\n",
       "      <td>19114.12</td>\n",
       "      <td>3</td>\n",
       "      <td>4</td>\n",
       "      <td>3</td>\n",
       "      <td>4</td>\n",
       "      <td>Auto Loan, Credit-Builder Loan, Personal Loan,...</td>\n",
       "      <td>8</td>\n",
       "      <td>4</td>\n",
       "      <td>9.27</td>\n",
       "      <td>Good</td>\n",
       "      <td>809.98</td>\n",
       "      <td>27.262259</td>\n",
       "      <td>22</td>\n",
       "      <td>No</td>\n",
       "      <td>49.574949</td>\n",
       "      <td>62.430172</td>\n",
       "      <td>!@9#%8</td>\n",
       "      <td>340.479212</td>\n",
       "      <td>2</td>\n",
       "    </tr>\n",
       "    <tr>\n",
       "      <th>6</th>\n",
       "      <td>19114.12</td>\n",
       "      <td>3</td>\n",
       "      <td>4</td>\n",
       "      <td>3</td>\n",
       "      <td>4</td>\n",
       "      <td>Auto Loan, Credit-Builder Loan, Personal Loan,...</td>\n",
       "      <td>3</td>\n",
       "      <td>8</td>\n",
       "      <td>11.27</td>\n",
       "      <td>Good</td>\n",
       "      <td>809.98</td>\n",
       "      <td>22.537593</td>\n",
       "      <td>22</td>\n",
       "      <td>No</td>\n",
       "      <td>49.574949</td>\n",
       "      <td>178.344067</td>\n",
       "      <td>Low_spent_Small_value_payments</td>\n",
       "      <td>244.565317</td>\n",
       "      <td>2</td>\n",
       "    </tr>\n",
       "    <tr>\n",
       "      <th>8</th>\n",
       "      <td>34847.84</td>\n",
       "      <td>2</td>\n",
       "      <td>4</td>\n",
       "      <td>6</td>\n",
       "      <td>1</td>\n",
       "      <td>Credit-Builder Loan</td>\n",
       "      <td>3</td>\n",
       "      <td>4</td>\n",
       "      <td>5.42</td>\n",
       "      <td>Good</td>\n",
       "      <td>605.03</td>\n",
       "      <td>24.464031</td>\n",
       "      <td>26</td>\n",
       "      <td>No</td>\n",
       "      <td>18.816215</td>\n",
       "      <td>104.291825</td>\n",
       "      <td>Low_spent_Small_value_payments</td>\n",
       "      <td>470.690627</td>\n",
       "      <td>1</td>\n",
       "    </tr>\n",
       "  </tbody>\n",
       "</table>\n",
       "</div>"
      ],
      "text/plain": [
       "   annual_income  num_bank_accounts  num_credit_card  interest_rate  \\\n",
       "0       19114.12                  3                4              3   \n",
       "3       19114.12                  3                4              3   \n",
       "5       19114.12                  3                4              3   \n",
       "6       19114.12                  3                4              3   \n",
       "8       34847.84                  2                4              6   \n",
       "\n",
       "   num_of_loan                                       type_of_loan  \\\n",
       "0            4  Auto Loan, Credit-Builder Loan, Personal Loan,...   \n",
       "3            4  Auto Loan, Credit-Builder Loan, Personal Loan,...   \n",
       "5            4  Auto Loan, Credit-Builder Loan, Personal Loan,...   \n",
       "6            4  Auto Loan, Credit-Builder Loan, Personal Loan,...   \n",
       "8            1                                Credit-Builder Loan   \n",
       "\n",
       "   delay_from_due_date  num_of_delayed_payment  changed_credit_limit  \\\n",
       "0                    3                       7                 11.27   \n",
       "3                    5                       4                  6.27   \n",
       "5                    8                       4                  9.27   \n",
       "6                    3                       8                 11.27   \n",
       "8                    3                       4                  5.42   \n",
       "\n",
       "  credit_mix  outstanding_debt  credit_utilization_ratio  credit_history_age  \\\n",
       "0          _            809.98                 26.822620                  22   \n",
       "3       Good            809.98                 31.377862                  22   \n",
       "5       Good            809.98                 27.262259                  22   \n",
       "6       Good            809.98                 22.537593                  22   \n",
       "8       Good            605.03                 24.464031                  26   \n",
       "\n",
       "  payment_of_min_amount  total_emi_per_month  amount_invested_monthly  \\\n",
       "0                    No            49.574949                80.415295   \n",
       "3                    No            49.574949               199.458074   \n",
       "5                    No            49.574949                62.430172   \n",
       "6                    No            49.574949               178.344067   \n",
       "8                    No            18.816215               104.291825   \n",
       "\n",
       "                 payment_behaviour  monthly_balance  credit_score  \n",
       "0  High_spent_Small_value_payments       312.494089             2  \n",
       "3   Low_spent_Small_value_payments       223.451310             2  \n",
       "5                           !@9#%8       340.479212             2  \n",
       "6   Low_spent_Small_value_payments       244.565317             2  \n",
       "8   Low_spent_Small_value_payments       470.690627             1  "
      ]
     },
     "execution_count": 30,
     "metadata": {},
     "output_type": "execute_result"
    }
   ],
   "source": [
    "train.head()"
   ]
  },
  {
   "cell_type": "code",
   "execution_count": 31,
   "id": "773f3cf1",
   "metadata": {},
   "outputs": [
    {
     "data": {
      "text/html": [
       "<div>\n",
       "<style scoped>\n",
       "    .dataframe tbody tr th:only-of-type {\n",
       "        vertical-align: middle;\n",
       "    }\n",
       "\n",
       "    .dataframe tbody tr th {\n",
       "        vertical-align: top;\n",
       "    }\n",
       "\n",
       "    .dataframe thead th {\n",
       "        text-align: right;\n",
       "    }\n",
       "</style>\n",
       "<table border=\"1\" class=\"dataframe\">\n",
       "  <thead>\n",
       "    <tr style=\"text-align: right;\">\n",
       "      <th></th>\n",
       "      <th>annual_income</th>\n",
       "      <th>num_bank_accounts</th>\n",
       "      <th>num_credit_card</th>\n",
       "      <th>interest_rate</th>\n",
       "      <th>num_of_loan</th>\n",
       "      <th>type_of_loan</th>\n",
       "      <th>delay_from_due_date</th>\n",
       "      <th>num_of_delayed_payment</th>\n",
       "      <th>changed_credit_limit</th>\n",
       "      <th>credit_mix</th>\n",
       "      <th>outstanding_debt</th>\n",
       "      <th>credit_utilization_ratio</th>\n",
       "      <th>credit_history_age</th>\n",
       "      <th>payment_of_min_amount</th>\n",
       "      <th>total_emi_per_month</th>\n",
       "      <th>amount_invested_monthly</th>\n",
       "      <th>payment_behaviour</th>\n",
       "      <th>monthly_balance</th>\n",
       "    </tr>\n",
       "  </thead>\n",
       "  <tbody>\n",
       "    <tr>\n",
       "      <th>0</th>\n",
       "      <td>19114.12</td>\n",
       "      <td>3</td>\n",
       "      <td>4</td>\n",
       "      <td>3</td>\n",
       "      <td>4</td>\n",
       "      <td>Auto Loan, Credit-Builder Loan, Personal Loan,...</td>\n",
       "      <td>3</td>\n",
       "      <td>7</td>\n",
       "      <td>11.27</td>\n",
       "      <td>Good</td>\n",
       "      <td>809.98</td>\n",
       "      <td>35.030402</td>\n",
       "      <td>22</td>\n",
       "      <td>No</td>\n",
       "      <td>49.574949</td>\n",
       "      <td>236.642682</td>\n",
       "      <td>Low_spent_Small_value_payments</td>\n",
       "      <td>186.266702</td>\n",
       "    </tr>\n",
       "    <tr>\n",
       "      <th>1</th>\n",
       "      <td>19114.12</td>\n",
       "      <td>3</td>\n",
       "      <td>4</td>\n",
       "      <td>3</td>\n",
       "      <td>4</td>\n",
       "      <td>Auto Loan, Credit-Builder Loan, Personal Loan,...</td>\n",
       "      <td>3</td>\n",
       "      <td>9</td>\n",
       "      <td>13.27</td>\n",
       "      <td>Good</td>\n",
       "      <td>809.98</td>\n",
       "      <td>33.053114</td>\n",
       "      <td>22</td>\n",
       "      <td>No</td>\n",
       "      <td>49.574949</td>\n",
       "      <td>21.465380</td>\n",
       "      <td>High_spent_Medium_value_payments</td>\n",
       "      <td>361.444004</td>\n",
       "    </tr>\n",
       "    <tr>\n",
       "      <th>3</th>\n",
       "      <td>19114.12</td>\n",
       "      <td>3</td>\n",
       "      <td>4</td>\n",
       "      <td>3</td>\n",
       "      <td>4</td>\n",
       "      <td>Auto Loan, Credit-Builder Loan, Personal Loan,...</td>\n",
       "      <td>4</td>\n",
       "      <td>5</td>\n",
       "      <td>11.27</td>\n",
       "      <td>Good</td>\n",
       "      <td>809.98</td>\n",
       "      <td>32.430559</td>\n",
       "      <td>23</td>\n",
       "      <td>No</td>\n",
       "      <td>49.574949</td>\n",
       "      <td>39.082511</td>\n",
       "      <td>High_spent_Medium_value_payments</td>\n",
       "      <td>343.826873</td>\n",
       "    </tr>\n",
       "    <tr>\n",
       "      <th>4</th>\n",
       "      <td>34847.84</td>\n",
       "      <td>2</td>\n",
       "      <td>4</td>\n",
       "      <td>6</td>\n",
       "      <td>1</td>\n",
       "      <td>Credit-Builder Loan</td>\n",
       "      <td>3</td>\n",
       "      <td>1</td>\n",
       "      <td>5.42</td>\n",
       "      <td>Good</td>\n",
       "      <td>605.03</td>\n",
       "      <td>25.926822</td>\n",
       "      <td>27</td>\n",
       "      <td>No</td>\n",
       "      <td>18.816215</td>\n",
       "      <td>39.684018</td>\n",
       "      <td>High_spent_Large_value_payments</td>\n",
       "      <td>485.298434</td>\n",
       "    </tr>\n",
       "    <tr>\n",
       "      <th>5</th>\n",
       "      <td>34847.84</td>\n",
       "      <td>2</td>\n",
       "      <td>4</td>\n",
       "      <td>6</td>\n",
       "      <td>1</td>\n",
       "      <td>Credit-Builder Loan</td>\n",
       "      <td>3</td>\n",
       "      <td>3</td>\n",
       "      <td>5.42</td>\n",
       "      <td>Good</td>\n",
       "      <td>605.03</td>\n",
       "      <td>30.116600</td>\n",
       "      <td>27</td>\n",
       "      <td>No</td>\n",
       "      <td>18.816215</td>\n",
       "      <td>251.627369</td>\n",
       "      <td>Low_spent_Large_value_payments</td>\n",
       "      <td>303.355083</td>\n",
       "    </tr>\n",
       "  </tbody>\n",
       "</table>\n",
       "</div>"
      ],
      "text/plain": [
       "   annual_income  num_bank_accounts  num_credit_card  interest_rate  \\\n",
       "0       19114.12                  3                4              3   \n",
       "1       19114.12                  3                4              3   \n",
       "3       19114.12                  3                4              3   \n",
       "4       34847.84                  2                4              6   \n",
       "5       34847.84                  2                4              6   \n",
       "\n",
       "   num_of_loan                                       type_of_loan  \\\n",
       "0            4  Auto Loan, Credit-Builder Loan, Personal Loan,...   \n",
       "1            4  Auto Loan, Credit-Builder Loan, Personal Loan,...   \n",
       "3            4  Auto Loan, Credit-Builder Loan, Personal Loan,...   \n",
       "4            1                                Credit-Builder Loan   \n",
       "5            1                                Credit-Builder Loan   \n",
       "\n",
       "   delay_from_due_date  num_of_delayed_payment  changed_credit_limit  \\\n",
       "0                    3                       7                 11.27   \n",
       "1                    3                       9                 13.27   \n",
       "3                    4                       5                 11.27   \n",
       "4                    3                       1                  5.42   \n",
       "5                    3                       3                  5.42   \n",
       "\n",
       "  credit_mix  outstanding_debt  credit_utilization_ratio  credit_history_age  \\\n",
       "0       Good            809.98                 35.030402                  22   \n",
       "1       Good            809.98                 33.053114                  22   \n",
       "3       Good            809.98                 32.430559                  23   \n",
       "4       Good            605.03                 25.926822                  27   \n",
       "5       Good            605.03                 30.116600                  27   \n",
       "\n",
       "  payment_of_min_amount  total_emi_per_month  amount_invested_monthly  \\\n",
       "0                    No            49.574949               236.642682   \n",
       "1                    No            49.574949                21.465380   \n",
       "3                    No            49.574949                39.082511   \n",
       "4                    No            18.816215                39.684018   \n",
       "5                    No            18.816215               251.627369   \n",
       "\n",
       "                  payment_behaviour  monthly_balance  \n",
       "0    Low_spent_Small_value_payments       186.266702  \n",
       "1  High_spent_Medium_value_payments       361.444004  \n",
       "3  High_spent_Medium_value_payments       343.826873  \n",
       "4   High_spent_Large_value_payments       485.298434  \n",
       "5    Low_spent_Large_value_payments       303.355083  "
      ]
     },
     "execution_count": 31,
     "metadata": {},
     "output_type": "execute_result"
    }
   ],
   "source": [
    "test.head()"
   ]
  },
  {
   "cell_type": "markdown",
   "id": "695d9a21",
   "metadata": {},
   "source": [
    "## Data Processing"
   ]
  },
  {
   "cell_type": "markdown",
   "id": "6ae8e152",
   "metadata": {},
   "source": [
    "Plans for processing:\n",
    "- type_of_loan column should be seperated by commas and created into dummy variables \n",
    "- payment_behaviour should be also seperated into dummy variables"
   ]
  },
  {
   "cell_type": "code",
   "execution_count": 32,
   "id": "a1a578f7",
   "metadata": {},
   "outputs": [
    {
     "data": {
      "text/plain": [
       "array(['High_spent_Small_value_payments',\n",
       "       'Low_spent_Small_value_payments', '!@9#%8',\n",
       "       'High_spent_Large_value_payments',\n",
       "       'Low_spent_Medium_value_payments',\n",
       "       'High_spent_Medium_value_payments',\n",
       "       'Low_spent_Large_value_payments'], dtype=object)"
      ]
     },
     "execution_count": 32,
     "metadata": {},
     "output_type": "execute_result"
    }
   ],
   "source": [
    "train['payment_behaviour'].unique()"
   ]
  },
  {
   "cell_type": "code",
   "execution_count": 33,
   "id": "1bedebe1",
   "metadata": {},
   "outputs": [
    {
     "data": {
      "text/plain": [
       "5886"
      ]
     },
     "execution_count": 33,
     "metadata": {},
     "output_type": "execute_result"
    }
   ],
   "source": [
    "len(train[train['payment_behaviour']=='!@9#%8'])"
   ]
  },
  {
   "cell_type": "code",
   "execution_count": 34,
   "id": "e9ed005c",
   "metadata": {},
   "outputs": [
    {
     "data": {
      "text/plain": [
       "array(['Low_spent_Small_value_payments',\n",
       "       'High_spent_Medium_value_payments',\n",
       "       'High_spent_Large_value_payments',\n",
       "       'Low_spent_Large_value_payments', '!@9#%8',\n",
       "       'Low_spent_Medium_value_payments',\n",
       "       'High_spent_Small_value_payments'], dtype=object)"
      ]
     },
     "execution_count": 34,
     "metadata": {},
     "output_type": "execute_result"
    }
   ],
   "source": [
    "test['payment_behaviour'].unique()"
   ]
  },
  {
   "cell_type": "code",
   "execution_count": 35,
   "id": "e48269a9",
   "metadata": {},
   "outputs": [
    {
     "data": {
      "text/plain": [
       "2962"
      ]
     },
     "execution_count": 35,
     "metadata": {},
     "output_type": "execute_result"
    }
   ],
   "source": [
    "len(test[test['payment_behaviour']=='!@9#%8'])"
   ]
  },
  {
   "cell_type": "markdown",
   "id": "a57398c3",
   "metadata": {},
   "source": [
    "We do not know what '!@9#%8' represents. Let's assume that it is a placeholder for something and not a NaN value so we do not have to drop it because a lot of rows contain it."
   ]
  },
  {
   "cell_type": "code",
   "execution_count": 36,
   "id": "f5bd264c",
   "metadata": {},
   "outputs": [],
   "source": [
    "## Payment behaviour into dummy columns \n",
    "train = pd.get_dummies(train, columns=['payment_behaviour','credit_mix','payment_of_min_amount'], prefix=\"\", prefix_sep=\"\")"
   ]
  },
  {
   "cell_type": "code",
   "execution_count": 37,
   "id": "eb15a886",
   "metadata": {},
   "outputs": [],
   "source": [
    "test = pd.get_dummies(test, columns=['payment_behaviour','credit_mix','payment_of_min_amount'], prefix=\"\", prefix_sep=\"\")"
   ]
  },
  {
   "cell_type": "markdown",
   "id": "a2572655",
   "metadata": {},
   "source": [
    "Let's also drop the type of loan column, as the type of loan does not matter when predicting a credit score"
   ]
  },
  {
   "cell_type": "code",
   "execution_count": 38,
   "id": "fed65381",
   "metadata": {},
   "outputs": [],
   "source": [
    "del train['type_of_loan']\n",
    "del test['type_of_loan']"
   ]
  },
  {
   "cell_type": "code",
   "execution_count": 39,
   "id": "425a89c4",
   "metadata": {},
   "outputs": [
    {
     "data": {
      "text/html": [
       "<div>\n",
       "<style scoped>\n",
       "    .dataframe tbody tr th:only-of-type {\n",
       "        vertical-align: middle;\n",
       "    }\n",
       "\n",
       "    .dataframe tbody tr th {\n",
       "        vertical-align: top;\n",
       "    }\n",
       "\n",
       "    .dataframe thead th {\n",
       "        text-align: right;\n",
       "    }\n",
       "</style>\n",
       "<table border=\"1\" class=\"dataframe\">\n",
       "  <thead>\n",
       "    <tr style=\"text-align: right;\">\n",
       "      <th></th>\n",
       "      <th>annual_income</th>\n",
       "      <th>num_bank_accounts</th>\n",
       "      <th>num_credit_card</th>\n",
       "      <th>interest_rate</th>\n",
       "      <th>num_of_loan</th>\n",
       "      <th>delay_from_due_date</th>\n",
       "      <th>num_of_delayed_payment</th>\n",
       "      <th>changed_credit_limit</th>\n",
       "      <th>outstanding_debt</th>\n",
       "      <th>credit_utilization_ratio</th>\n",
       "      <th>credit_history_age</th>\n",
       "      <th>total_emi_per_month</th>\n",
       "      <th>amount_invested_monthly</th>\n",
       "      <th>monthly_balance</th>\n",
       "      <th>credit_score</th>\n",
       "      <th>!@9#%8</th>\n",
       "      <th>High_spent_Large_value_payments</th>\n",
       "      <th>High_spent_Medium_value_payments</th>\n",
       "      <th>High_spent_Small_value_payments</th>\n",
       "      <th>Low_spent_Large_value_payments</th>\n",
       "      <th>Low_spent_Medium_value_payments</th>\n",
       "      <th>Low_spent_Small_value_payments</th>\n",
       "      <th>Bad</th>\n",
       "      <th>Good</th>\n",
       "      <th>Standard</th>\n",
       "      <th>_</th>\n",
       "      <th>NM</th>\n",
       "      <th>No</th>\n",
       "      <th>Yes</th>\n",
       "    </tr>\n",
       "  </thead>\n",
       "  <tbody>\n",
       "    <tr>\n",
       "      <th>0</th>\n",
       "      <td>19114.12</td>\n",
       "      <td>3</td>\n",
       "      <td>4</td>\n",
       "      <td>3</td>\n",
       "      <td>4</td>\n",
       "      <td>3</td>\n",
       "      <td>7</td>\n",
       "      <td>11.27</td>\n",
       "      <td>809.98</td>\n",
       "      <td>26.822620</td>\n",
       "      <td>22</td>\n",
       "      <td>49.574949</td>\n",
       "      <td>80.415295</td>\n",
       "      <td>312.494089</td>\n",
       "      <td>2</td>\n",
       "      <td>0</td>\n",
       "      <td>0</td>\n",
       "      <td>0</td>\n",
       "      <td>1</td>\n",
       "      <td>0</td>\n",
       "      <td>0</td>\n",
       "      <td>0</td>\n",
       "      <td>0</td>\n",
       "      <td>0</td>\n",
       "      <td>0</td>\n",
       "      <td>1</td>\n",
       "      <td>0</td>\n",
       "      <td>1</td>\n",
       "      <td>0</td>\n",
       "    </tr>\n",
       "    <tr>\n",
       "      <th>3</th>\n",
       "      <td>19114.12</td>\n",
       "      <td>3</td>\n",
       "      <td>4</td>\n",
       "      <td>3</td>\n",
       "      <td>4</td>\n",
       "      <td>5</td>\n",
       "      <td>4</td>\n",
       "      <td>6.27</td>\n",
       "      <td>809.98</td>\n",
       "      <td>31.377862</td>\n",
       "      <td>22</td>\n",
       "      <td>49.574949</td>\n",
       "      <td>199.458074</td>\n",
       "      <td>223.451310</td>\n",
       "      <td>2</td>\n",
       "      <td>0</td>\n",
       "      <td>0</td>\n",
       "      <td>0</td>\n",
       "      <td>0</td>\n",
       "      <td>0</td>\n",
       "      <td>0</td>\n",
       "      <td>1</td>\n",
       "      <td>0</td>\n",
       "      <td>1</td>\n",
       "      <td>0</td>\n",
       "      <td>0</td>\n",
       "      <td>0</td>\n",
       "      <td>1</td>\n",
       "      <td>0</td>\n",
       "    </tr>\n",
       "    <tr>\n",
       "      <th>5</th>\n",
       "      <td>19114.12</td>\n",
       "      <td>3</td>\n",
       "      <td>4</td>\n",
       "      <td>3</td>\n",
       "      <td>4</td>\n",
       "      <td>8</td>\n",
       "      <td>4</td>\n",
       "      <td>9.27</td>\n",
       "      <td>809.98</td>\n",
       "      <td>27.262259</td>\n",
       "      <td>22</td>\n",
       "      <td>49.574949</td>\n",
       "      <td>62.430172</td>\n",
       "      <td>340.479212</td>\n",
       "      <td>2</td>\n",
       "      <td>1</td>\n",
       "      <td>0</td>\n",
       "      <td>0</td>\n",
       "      <td>0</td>\n",
       "      <td>0</td>\n",
       "      <td>0</td>\n",
       "      <td>0</td>\n",
       "      <td>0</td>\n",
       "      <td>1</td>\n",
       "      <td>0</td>\n",
       "      <td>0</td>\n",
       "      <td>0</td>\n",
       "      <td>1</td>\n",
       "      <td>0</td>\n",
       "    </tr>\n",
       "    <tr>\n",
       "      <th>6</th>\n",
       "      <td>19114.12</td>\n",
       "      <td>3</td>\n",
       "      <td>4</td>\n",
       "      <td>3</td>\n",
       "      <td>4</td>\n",
       "      <td>3</td>\n",
       "      <td>8</td>\n",
       "      <td>11.27</td>\n",
       "      <td>809.98</td>\n",
       "      <td>22.537593</td>\n",
       "      <td>22</td>\n",
       "      <td>49.574949</td>\n",
       "      <td>178.344067</td>\n",
       "      <td>244.565317</td>\n",
       "      <td>2</td>\n",
       "      <td>0</td>\n",
       "      <td>0</td>\n",
       "      <td>0</td>\n",
       "      <td>0</td>\n",
       "      <td>0</td>\n",
       "      <td>0</td>\n",
       "      <td>1</td>\n",
       "      <td>0</td>\n",
       "      <td>1</td>\n",
       "      <td>0</td>\n",
       "      <td>0</td>\n",
       "      <td>0</td>\n",
       "      <td>1</td>\n",
       "      <td>0</td>\n",
       "    </tr>\n",
       "    <tr>\n",
       "      <th>8</th>\n",
       "      <td>34847.84</td>\n",
       "      <td>2</td>\n",
       "      <td>4</td>\n",
       "      <td>6</td>\n",
       "      <td>1</td>\n",
       "      <td>3</td>\n",
       "      <td>4</td>\n",
       "      <td>5.42</td>\n",
       "      <td>605.03</td>\n",
       "      <td>24.464031</td>\n",
       "      <td>26</td>\n",
       "      <td>18.816215</td>\n",
       "      <td>104.291825</td>\n",
       "      <td>470.690627</td>\n",
       "      <td>1</td>\n",
       "      <td>0</td>\n",
       "      <td>0</td>\n",
       "      <td>0</td>\n",
       "      <td>0</td>\n",
       "      <td>0</td>\n",
       "      <td>0</td>\n",
       "      <td>1</td>\n",
       "      <td>0</td>\n",
       "      <td>1</td>\n",
       "      <td>0</td>\n",
       "      <td>0</td>\n",
       "      <td>0</td>\n",
       "      <td>1</td>\n",
       "      <td>0</td>\n",
       "    </tr>\n",
       "    <tr>\n",
       "      <th>...</th>\n",
       "      <td>...</td>\n",
       "      <td>...</td>\n",
       "      <td>...</td>\n",
       "      <td>...</td>\n",
       "      <td>...</td>\n",
       "      <td>...</td>\n",
       "      <td>...</td>\n",
       "      <td>...</td>\n",
       "      <td>...</td>\n",
       "      <td>...</td>\n",
       "      <td>...</td>\n",
       "      <td>...</td>\n",
       "      <td>...</td>\n",
       "      <td>...</td>\n",
       "      <td>...</td>\n",
       "      <td>...</td>\n",
       "      <td>...</td>\n",
       "      <td>...</td>\n",
       "      <td>...</td>\n",
       "      <td>...</td>\n",
       "      <td>...</td>\n",
       "      <td>...</td>\n",
       "      <td>...</td>\n",
       "      <td>...</td>\n",
       "      <td>...</td>\n",
       "      <td>...</td>\n",
       "      <td>...</td>\n",
       "      <td>...</td>\n",
       "      <td>...</td>\n",
       "    </tr>\n",
       "    <tr>\n",
       "      <th>99994</th>\n",
       "      <td>39628.99</td>\n",
       "      <td>4</td>\n",
       "      <td>6</td>\n",
       "      <td>7</td>\n",
       "      <td>2</td>\n",
       "      <td>20</td>\n",
       "      <td>6</td>\n",
       "      <td>9.50</td>\n",
       "      <td>502.38</td>\n",
       "      <td>39.323569</td>\n",
       "      <td>31</td>\n",
       "      <td>35.104023</td>\n",
       "      <td>140.581403</td>\n",
       "      <td>410.256158</td>\n",
       "      <td>0</td>\n",
       "      <td>0</td>\n",
       "      <td>0</td>\n",
       "      <td>1</td>\n",
       "      <td>0</td>\n",
       "      <td>0</td>\n",
       "      <td>0</td>\n",
       "      <td>0</td>\n",
       "      <td>0</td>\n",
       "      <td>0</td>\n",
       "      <td>0</td>\n",
       "      <td>1</td>\n",
       "      <td>0</td>\n",
       "      <td>1</td>\n",
       "      <td>0</td>\n",
       "    </tr>\n",
       "    <tr>\n",
       "      <th>99995</th>\n",
       "      <td>39628.99</td>\n",
       "      <td>4</td>\n",
       "      <td>6</td>\n",
       "      <td>7</td>\n",
       "      <td>2</td>\n",
       "      <td>23</td>\n",
       "      <td>7</td>\n",
       "      <td>11.50</td>\n",
       "      <td>502.38</td>\n",
       "      <td>34.663572</td>\n",
       "      <td>31</td>\n",
       "      <td>35.104023</td>\n",
       "      <td>60.971333</td>\n",
       "      <td>479.866228</td>\n",
       "      <td>0</td>\n",
       "      <td>0</td>\n",
       "      <td>1</td>\n",
       "      <td>0</td>\n",
       "      <td>0</td>\n",
       "      <td>0</td>\n",
       "      <td>0</td>\n",
       "      <td>0</td>\n",
       "      <td>0</td>\n",
       "      <td>0</td>\n",
       "      <td>0</td>\n",
       "      <td>1</td>\n",
       "      <td>0</td>\n",
       "      <td>1</td>\n",
       "      <td>0</td>\n",
       "    </tr>\n",
       "    <tr>\n",
       "      <th>99996</th>\n",
       "      <td>39628.99</td>\n",
       "      <td>4</td>\n",
       "      <td>6</td>\n",
       "      <td>7</td>\n",
       "      <td>2</td>\n",
       "      <td>18</td>\n",
       "      <td>7</td>\n",
       "      <td>11.50</td>\n",
       "      <td>502.38</td>\n",
       "      <td>40.565631</td>\n",
       "      <td>31</td>\n",
       "      <td>35.104023</td>\n",
       "      <td>54.185950</td>\n",
       "      <td>496.651610</td>\n",
       "      <td>0</td>\n",
       "      <td>0</td>\n",
       "      <td>0</td>\n",
       "      <td>1</td>\n",
       "      <td>0</td>\n",
       "      <td>0</td>\n",
       "      <td>0</td>\n",
       "      <td>0</td>\n",
       "      <td>0</td>\n",
       "      <td>0</td>\n",
       "      <td>0</td>\n",
       "      <td>1</td>\n",
       "      <td>0</td>\n",
       "      <td>1</td>\n",
       "      <td>0</td>\n",
       "    </tr>\n",
       "    <tr>\n",
       "      <th>99997</th>\n",
       "      <td>39628.99</td>\n",
       "      <td>4</td>\n",
       "      <td>6</td>\n",
       "      <td>5729</td>\n",
       "      <td>2</td>\n",
       "      <td>27</td>\n",
       "      <td>6</td>\n",
       "      <td>11.50</td>\n",
       "      <td>502.38</td>\n",
       "      <td>41.255522</td>\n",
       "      <td>31</td>\n",
       "      <td>35.104023</td>\n",
       "      <td>24.028477</td>\n",
       "      <td>516.809083</td>\n",
       "      <td>0</td>\n",
       "      <td>0</td>\n",
       "      <td>1</td>\n",
       "      <td>0</td>\n",
       "      <td>0</td>\n",
       "      <td>0</td>\n",
       "      <td>0</td>\n",
       "      <td>0</td>\n",
       "      <td>0</td>\n",
       "      <td>1</td>\n",
       "      <td>0</td>\n",
       "      <td>0</td>\n",
       "      <td>0</td>\n",
       "      <td>1</td>\n",
       "      <td>0</td>\n",
       "    </tr>\n",
       "    <tr>\n",
       "      <th>99999</th>\n",
       "      <td>39628.99</td>\n",
       "      <td>4</td>\n",
       "      <td>6</td>\n",
       "      <td>7</td>\n",
       "      <td>2</td>\n",
       "      <td>18</td>\n",
       "      <td>6</td>\n",
       "      <td>11.50</td>\n",
       "      <td>502.38</td>\n",
       "      <td>34.192463</td>\n",
       "      <td>31</td>\n",
       "      <td>35.104023</td>\n",
       "      <td>167.163865</td>\n",
       "      <td>393.673696</td>\n",
       "      <td>0</td>\n",
       "      <td>1</td>\n",
       "      <td>0</td>\n",
       "      <td>0</td>\n",
       "      <td>0</td>\n",
       "      <td>0</td>\n",
       "      <td>0</td>\n",
       "      <td>0</td>\n",
       "      <td>0</td>\n",
       "      <td>1</td>\n",
       "      <td>0</td>\n",
       "      <td>0</td>\n",
       "      <td>0</td>\n",
       "      <td>1</td>\n",
       "      <td>0</td>\n",
       "    </tr>\n",
       "  </tbody>\n",
       "</table>\n",
       "<p>78189 rows × 29 columns</p>\n",
       "</div>"
      ],
      "text/plain": [
       "       annual_income  num_bank_accounts  num_credit_card  interest_rate  \\\n",
       "0           19114.12                  3                4              3   \n",
       "3           19114.12                  3                4              3   \n",
       "5           19114.12                  3                4              3   \n",
       "6           19114.12                  3                4              3   \n",
       "8           34847.84                  2                4              6   \n",
       "...              ...                ...              ...            ...   \n",
       "99994       39628.99                  4                6              7   \n",
       "99995       39628.99                  4                6              7   \n",
       "99996       39628.99                  4                6              7   \n",
       "99997       39628.99                  4                6           5729   \n",
       "99999       39628.99                  4                6              7   \n",
       "\n",
       "       num_of_loan  delay_from_due_date  num_of_delayed_payment  \\\n",
       "0                4                    3                       7   \n",
       "3                4                    5                       4   \n",
       "5                4                    8                       4   \n",
       "6                4                    3                       8   \n",
       "8                1                    3                       4   \n",
       "...            ...                  ...                     ...   \n",
       "99994            2                   20                       6   \n",
       "99995            2                   23                       7   \n",
       "99996            2                   18                       7   \n",
       "99997            2                   27                       6   \n",
       "99999            2                   18                       6   \n",
       "\n",
       "       changed_credit_limit  outstanding_debt  credit_utilization_ratio  \\\n",
       "0                     11.27            809.98                 26.822620   \n",
       "3                      6.27            809.98                 31.377862   \n",
       "5                      9.27            809.98                 27.262259   \n",
       "6                     11.27            809.98                 22.537593   \n",
       "8                      5.42            605.03                 24.464031   \n",
       "...                     ...               ...                       ...   \n",
       "99994                  9.50            502.38                 39.323569   \n",
       "99995                 11.50            502.38                 34.663572   \n",
       "99996                 11.50            502.38                 40.565631   \n",
       "99997                 11.50            502.38                 41.255522   \n",
       "99999                 11.50            502.38                 34.192463   \n",
       "\n",
       "       credit_history_age  total_emi_per_month  amount_invested_monthly  \\\n",
       "0                      22            49.574949                80.415295   \n",
       "3                      22            49.574949               199.458074   \n",
       "5                      22            49.574949                62.430172   \n",
       "6                      22            49.574949               178.344067   \n",
       "8                      26            18.816215               104.291825   \n",
       "...                   ...                  ...                      ...   \n",
       "99994                  31            35.104023               140.581403   \n",
       "99995                  31            35.104023                60.971333   \n",
       "99996                  31            35.104023                54.185950   \n",
       "99997                  31            35.104023                24.028477   \n",
       "99999                  31            35.104023               167.163865   \n",
       "\n",
       "       monthly_balance  credit_score  !@9#%8  High_spent_Large_value_payments  \\\n",
       "0           312.494089             2       0                                0   \n",
       "3           223.451310             2       0                                0   \n",
       "5           340.479212             2       1                                0   \n",
       "6           244.565317             2       0                                0   \n",
       "8           470.690627             1       0                                0   \n",
       "...                ...           ...     ...                              ...   \n",
       "99994       410.256158             0       0                                0   \n",
       "99995       479.866228             0       0                                1   \n",
       "99996       496.651610             0       0                                0   \n",
       "99997       516.809083             0       0                                1   \n",
       "99999       393.673696             0       1                                0   \n",
       "\n",
       "       High_spent_Medium_value_payments  High_spent_Small_value_payments  \\\n",
       "0                                     0                                1   \n",
       "3                                     0                                0   \n",
       "5                                     0                                0   \n",
       "6                                     0                                0   \n",
       "8                                     0                                0   \n",
       "...                                 ...                              ...   \n",
       "99994                                 1                                0   \n",
       "99995                                 0                                0   \n",
       "99996                                 1                                0   \n",
       "99997                                 0                                0   \n",
       "99999                                 0                                0   \n",
       "\n",
       "       Low_spent_Large_value_payments  Low_spent_Medium_value_payments  \\\n",
       "0                                   0                                0   \n",
       "3                                   0                                0   \n",
       "5                                   0                                0   \n",
       "6                                   0                                0   \n",
       "8                                   0                                0   \n",
       "...                               ...                              ...   \n",
       "99994                               0                                0   \n",
       "99995                               0                                0   \n",
       "99996                               0                                0   \n",
       "99997                               0                                0   \n",
       "99999                               0                                0   \n",
       "\n",
       "       Low_spent_Small_value_payments  Bad  Good  Standard  _  NM  No  Yes  \n",
       "0                                   0    0     0         0  1   0   1    0  \n",
       "3                                   1    0     1         0  0   0   1    0  \n",
       "5                                   0    0     1         0  0   0   1    0  \n",
       "6                                   1    0     1         0  0   0   1    0  \n",
       "8                                   1    0     1         0  0   0   1    0  \n",
       "...                               ...  ...   ...       ... ..  ..  ..  ...  \n",
       "99994                               0    0     0         0  1   0   1    0  \n",
       "99995                               0    0     0         0  1   0   1    0  \n",
       "99996                               0    0     0         0  1   0   1    0  \n",
       "99997                               0    0     1         0  0   0   1    0  \n",
       "99999                               0    0     1         0  0   0   1    0  \n",
       "\n",
       "[78189 rows x 29 columns]"
      ]
     },
     "execution_count": 39,
     "metadata": {},
     "output_type": "execute_result"
    }
   ],
   "source": [
    "train"
   ]
  },
  {
   "cell_type": "code",
   "execution_count": 40,
   "id": "34f61074",
   "metadata": {},
   "outputs": [
    {
     "data": {
      "text/html": [
       "<div>\n",
       "<style scoped>\n",
       "    .dataframe tbody tr th:only-of-type {\n",
       "        vertical-align: middle;\n",
       "    }\n",
       "\n",
       "    .dataframe tbody tr th {\n",
       "        vertical-align: top;\n",
       "    }\n",
       "\n",
       "    .dataframe thead th {\n",
       "        text-align: right;\n",
       "    }\n",
       "</style>\n",
       "<table border=\"1\" class=\"dataframe\">\n",
       "  <thead>\n",
       "    <tr style=\"text-align: right;\">\n",
       "      <th></th>\n",
       "      <th>annual_income</th>\n",
       "      <th>num_bank_accounts</th>\n",
       "      <th>num_credit_card</th>\n",
       "      <th>interest_rate</th>\n",
       "      <th>num_of_loan</th>\n",
       "      <th>delay_from_due_date</th>\n",
       "      <th>num_of_delayed_payment</th>\n",
       "      <th>changed_credit_limit</th>\n",
       "      <th>outstanding_debt</th>\n",
       "      <th>credit_utilization_ratio</th>\n",
       "      <th>credit_history_age</th>\n",
       "      <th>total_emi_per_month</th>\n",
       "      <th>amount_invested_monthly</th>\n",
       "      <th>monthly_balance</th>\n",
       "      <th>!@9#%8</th>\n",
       "      <th>High_spent_Large_value_payments</th>\n",
       "      <th>High_spent_Medium_value_payments</th>\n",
       "      <th>High_spent_Small_value_payments</th>\n",
       "      <th>Low_spent_Large_value_payments</th>\n",
       "      <th>Low_spent_Medium_value_payments</th>\n",
       "      <th>Low_spent_Small_value_payments</th>\n",
       "      <th>Bad</th>\n",
       "      <th>Good</th>\n",
       "      <th>Standard</th>\n",
       "      <th>_</th>\n",
       "      <th>NM</th>\n",
       "      <th>No</th>\n",
       "      <th>Yes</th>\n",
       "    </tr>\n",
       "  </thead>\n",
       "  <tbody>\n",
       "    <tr>\n",
       "      <th>0</th>\n",
       "      <td>19114.12</td>\n",
       "      <td>3</td>\n",
       "      <td>4</td>\n",
       "      <td>3</td>\n",
       "      <td>4</td>\n",
       "      <td>3</td>\n",
       "      <td>7</td>\n",
       "      <td>11.27</td>\n",
       "      <td>809.98</td>\n",
       "      <td>35.030402</td>\n",
       "      <td>22</td>\n",
       "      <td>49.574949</td>\n",
       "      <td>236.642682</td>\n",
       "      <td>186.266702</td>\n",
       "      <td>0</td>\n",
       "      <td>0</td>\n",
       "      <td>0</td>\n",
       "      <td>0</td>\n",
       "      <td>0</td>\n",
       "      <td>0</td>\n",
       "      <td>1</td>\n",
       "      <td>0</td>\n",
       "      <td>1</td>\n",
       "      <td>0</td>\n",
       "      <td>0</td>\n",
       "      <td>0</td>\n",
       "      <td>1</td>\n",
       "      <td>0</td>\n",
       "    </tr>\n",
       "    <tr>\n",
       "      <th>1</th>\n",
       "      <td>19114.12</td>\n",
       "      <td>3</td>\n",
       "      <td>4</td>\n",
       "      <td>3</td>\n",
       "      <td>4</td>\n",
       "      <td>3</td>\n",
       "      <td>9</td>\n",
       "      <td>13.27</td>\n",
       "      <td>809.98</td>\n",
       "      <td>33.053114</td>\n",
       "      <td>22</td>\n",
       "      <td>49.574949</td>\n",
       "      <td>21.465380</td>\n",
       "      <td>361.444004</td>\n",
       "      <td>0</td>\n",
       "      <td>0</td>\n",
       "      <td>1</td>\n",
       "      <td>0</td>\n",
       "      <td>0</td>\n",
       "      <td>0</td>\n",
       "      <td>0</td>\n",
       "      <td>0</td>\n",
       "      <td>1</td>\n",
       "      <td>0</td>\n",
       "      <td>0</td>\n",
       "      <td>0</td>\n",
       "      <td>1</td>\n",
       "      <td>0</td>\n",
       "    </tr>\n",
       "    <tr>\n",
       "      <th>3</th>\n",
       "      <td>19114.12</td>\n",
       "      <td>3</td>\n",
       "      <td>4</td>\n",
       "      <td>3</td>\n",
       "      <td>4</td>\n",
       "      <td>4</td>\n",
       "      <td>5</td>\n",
       "      <td>11.27</td>\n",
       "      <td>809.98</td>\n",
       "      <td>32.430559</td>\n",
       "      <td>23</td>\n",
       "      <td>49.574949</td>\n",
       "      <td>39.082511</td>\n",
       "      <td>343.826873</td>\n",
       "      <td>0</td>\n",
       "      <td>0</td>\n",
       "      <td>1</td>\n",
       "      <td>0</td>\n",
       "      <td>0</td>\n",
       "      <td>0</td>\n",
       "      <td>0</td>\n",
       "      <td>0</td>\n",
       "      <td>1</td>\n",
       "      <td>0</td>\n",
       "      <td>0</td>\n",
       "      <td>0</td>\n",
       "      <td>1</td>\n",
       "      <td>0</td>\n",
       "    </tr>\n",
       "    <tr>\n",
       "      <th>4</th>\n",
       "      <td>34847.84</td>\n",
       "      <td>2</td>\n",
       "      <td>4</td>\n",
       "      <td>6</td>\n",
       "      <td>1</td>\n",
       "      <td>3</td>\n",
       "      <td>1</td>\n",
       "      <td>5.42</td>\n",
       "      <td>605.03</td>\n",
       "      <td>25.926822</td>\n",
       "      <td>27</td>\n",
       "      <td>18.816215</td>\n",
       "      <td>39.684018</td>\n",
       "      <td>485.298434</td>\n",
       "      <td>0</td>\n",
       "      <td>1</td>\n",
       "      <td>0</td>\n",
       "      <td>0</td>\n",
       "      <td>0</td>\n",
       "      <td>0</td>\n",
       "      <td>0</td>\n",
       "      <td>0</td>\n",
       "      <td>1</td>\n",
       "      <td>0</td>\n",
       "      <td>0</td>\n",
       "      <td>0</td>\n",
       "      <td>1</td>\n",
       "      <td>0</td>\n",
       "    </tr>\n",
       "    <tr>\n",
       "      <th>5</th>\n",
       "      <td>34847.84</td>\n",
       "      <td>2</td>\n",
       "      <td>4</td>\n",
       "      <td>6</td>\n",
       "      <td>1</td>\n",
       "      <td>3</td>\n",
       "      <td>3</td>\n",
       "      <td>5.42</td>\n",
       "      <td>605.03</td>\n",
       "      <td>30.116600</td>\n",
       "      <td>27</td>\n",
       "      <td>18.816215</td>\n",
       "      <td>251.627369</td>\n",
       "      <td>303.355083</td>\n",
       "      <td>0</td>\n",
       "      <td>0</td>\n",
       "      <td>0</td>\n",
       "      <td>0</td>\n",
       "      <td>1</td>\n",
       "      <td>0</td>\n",
       "      <td>0</td>\n",
       "      <td>0</td>\n",
       "      <td>1</td>\n",
       "      <td>0</td>\n",
       "      <td>0</td>\n",
       "      <td>0</td>\n",
       "      <td>1</td>\n",
       "      <td>0</td>\n",
       "    </tr>\n",
       "    <tr>\n",
       "      <th>...</th>\n",
       "      <td>...</td>\n",
       "      <td>...</td>\n",
       "      <td>...</td>\n",
       "      <td>...</td>\n",
       "      <td>...</td>\n",
       "      <td>...</td>\n",
       "      <td>...</td>\n",
       "      <td>...</td>\n",
       "      <td>...</td>\n",
       "      <td>...</td>\n",
       "      <td>...</td>\n",
       "      <td>...</td>\n",
       "      <td>...</td>\n",
       "      <td>...</td>\n",
       "      <td>...</td>\n",
       "      <td>...</td>\n",
       "      <td>...</td>\n",
       "      <td>...</td>\n",
       "      <td>...</td>\n",
       "      <td>...</td>\n",
       "      <td>...</td>\n",
       "      <td>...</td>\n",
       "      <td>...</td>\n",
       "      <td>...</td>\n",
       "      <td>...</td>\n",
       "      <td>...</td>\n",
       "      <td>...</td>\n",
       "      <td>...</td>\n",
       "    </tr>\n",
       "    <tr>\n",
       "      <th>49993</th>\n",
       "      <td>20002.88</td>\n",
       "      <td>10</td>\n",
       "      <td>8</td>\n",
       "      <td>29</td>\n",
       "      <td>5</td>\n",
       "      <td>33</td>\n",
       "      <td>25</td>\n",
       "      <td>18.31</td>\n",
       "      <td>3571.70</td>\n",
       "      <td>37.528511</td>\n",
       "      <td>6</td>\n",
       "      <td>60.964772</td>\n",
       "      <td>71.794421</td>\n",
       "      <td>350.231473</td>\n",
       "      <td>0</td>\n",
       "      <td>0</td>\n",
       "      <td>0</td>\n",
       "      <td>0</td>\n",
       "      <td>0</td>\n",
       "      <td>0</td>\n",
       "      <td>1</td>\n",
       "      <td>1</td>\n",
       "      <td>0</td>\n",
       "      <td>0</td>\n",
       "      <td>0</td>\n",
       "      <td>0</td>\n",
       "      <td>0</td>\n",
       "      <td>1</td>\n",
       "    </tr>\n",
       "    <tr>\n",
       "      <th>49994</th>\n",
       "      <td>20002.88</td>\n",
       "      <td>10</td>\n",
       "      <td>8</td>\n",
       "      <td>29</td>\n",
       "      <td>5</td>\n",
       "      <td>33</td>\n",
       "      <td>22</td>\n",
       "      <td>18.31</td>\n",
       "      <td>3571.70</td>\n",
       "      <td>27.027812</td>\n",
       "      <td>6</td>\n",
       "      <td>60.964772</td>\n",
       "      <td>50.846847</td>\n",
       "      <td>341.179047</td>\n",
       "      <td>0</td>\n",
       "      <td>0</td>\n",
       "      <td>0</td>\n",
       "      <td>1</td>\n",
       "      <td>0</td>\n",
       "      <td>0</td>\n",
       "      <td>0</td>\n",
       "      <td>1</td>\n",
       "      <td>0</td>\n",
       "      <td>0</td>\n",
       "      <td>0</td>\n",
       "      <td>0</td>\n",
       "      <td>0</td>\n",
       "      <td>1</td>\n",
       "    </tr>\n",
       "    <tr>\n",
       "      <th>49997</th>\n",
       "      <td>39628.99</td>\n",
       "      <td>4</td>\n",
       "      <td>6</td>\n",
       "      <td>7</td>\n",
       "      <td>2</td>\n",
       "      <td>23</td>\n",
       "      <td>5</td>\n",
       "      <td>13.50</td>\n",
       "      <td>502.38</td>\n",
       "      <td>36.858542</td>\n",
       "      <td>32</td>\n",
       "      <td>35.104023</td>\n",
       "      <td>10000.000000</td>\n",
       "      <td>349.726332</td>\n",
       "      <td>0</td>\n",
       "      <td>0</td>\n",
       "      <td>0</td>\n",
       "      <td>0</td>\n",
       "      <td>1</td>\n",
       "      <td>0</td>\n",
       "      <td>0</td>\n",
       "      <td>0</td>\n",
       "      <td>1</td>\n",
       "      <td>0</td>\n",
       "      <td>0</td>\n",
       "      <td>0</td>\n",
       "      <td>1</td>\n",
       "      <td>0</td>\n",
       "    </tr>\n",
       "    <tr>\n",
       "      <th>49998</th>\n",
       "      <td>39628.99</td>\n",
       "      <td>4</td>\n",
       "      <td>6</td>\n",
       "      <td>7</td>\n",
       "      <td>2</td>\n",
       "      <td>21</td>\n",
       "      <td>6</td>\n",
       "      <td>11.50</td>\n",
       "      <td>502.38</td>\n",
       "      <td>39.139840</td>\n",
       "      <td>32</td>\n",
       "      <td>35.104023</td>\n",
       "      <td>97.598580</td>\n",
       "      <td>463.238981</td>\n",
       "      <td>0</td>\n",
       "      <td>0</td>\n",
       "      <td>0</td>\n",
       "      <td>1</td>\n",
       "      <td>0</td>\n",
       "      <td>0</td>\n",
       "      <td>0</td>\n",
       "      <td>0</td>\n",
       "      <td>1</td>\n",
       "      <td>0</td>\n",
       "      <td>0</td>\n",
       "      <td>0</td>\n",
       "      <td>1</td>\n",
       "      <td>0</td>\n",
       "    </tr>\n",
       "    <tr>\n",
       "      <th>49999</th>\n",
       "      <td>39628.99</td>\n",
       "      <td>4</td>\n",
       "      <td>6</td>\n",
       "      <td>7</td>\n",
       "      <td>2</td>\n",
       "      <td>22</td>\n",
       "      <td>5</td>\n",
       "      <td>11.50</td>\n",
       "      <td>502.38</td>\n",
       "      <td>34.108530</td>\n",
       "      <td>32</td>\n",
       "      <td>35.104023</td>\n",
       "      <td>220.457878</td>\n",
       "      <td>360.379683</td>\n",
       "      <td>0</td>\n",
       "      <td>0</td>\n",
       "      <td>0</td>\n",
       "      <td>0</td>\n",
       "      <td>0</td>\n",
       "      <td>1</td>\n",
       "      <td>0</td>\n",
       "      <td>0</td>\n",
       "      <td>0</td>\n",
       "      <td>0</td>\n",
       "      <td>1</td>\n",
       "      <td>0</td>\n",
       "      <td>1</td>\n",
       "      <td>0</td>\n",
       "    </tr>\n",
       "  </tbody>\n",
       "</table>\n",
       "<p>39135 rows × 28 columns</p>\n",
       "</div>"
      ],
      "text/plain": [
       "       annual_income  num_bank_accounts  num_credit_card  interest_rate  \\\n",
       "0           19114.12                  3                4              3   \n",
       "1           19114.12                  3                4              3   \n",
       "3           19114.12                  3                4              3   \n",
       "4           34847.84                  2                4              6   \n",
       "5           34847.84                  2                4              6   \n",
       "...              ...                ...              ...            ...   \n",
       "49993       20002.88                 10                8             29   \n",
       "49994       20002.88                 10                8             29   \n",
       "49997       39628.99                  4                6              7   \n",
       "49998       39628.99                  4                6              7   \n",
       "49999       39628.99                  4                6              7   \n",
       "\n",
       "       num_of_loan  delay_from_due_date  num_of_delayed_payment  \\\n",
       "0                4                    3                       7   \n",
       "1                4                    3                       9   \n",
       "3                4                    4                       5   \n",
       "4                1                    3                       1   \n",
       "5                1                    3                       3   \n",
       "...            ...                  ...                     ...   \n",
       "49993            5                   33                      25   \n",
       "49994            5                   33                      22   \n",
       "49997            2                   23                       5   \n",
       "49998            2                   21                       6   \n",
       "49999            2                   22                       5   \n",
       "\n",
       "       changed_credit_limit  outstanding_debt  credit_utilization_ratio  \\\n",
       "0                     11.27            809.98                 35.030402   \n",
       "1                     13.27            809.98                 33.053114   \n",
       "3                     11.27            809.98                 32.430559   \n",
       "4                      5.42            605.03                 25.926822   \n",
       "5                      5.42            605.03                 30.116600   \n",
       "...                     ...               ...                       ...   \n",
       "49993                 18.31           3571.70                 37.528511   \n",
       "49994                 18.31           3571.70                 27.027812   \n",
       "49997                 13.50            502.38                 36.858542   \n",
       "49998                 11.50            502.38                 39.139840   \n",
       "49999                 11.50            502.38                 34.108530   \n",
       "\n",
       "       credit_history_age  total_emi_per_month  amount_invested_monthly  \\\n",
       "0                      22            49.574949               236.642682   \n",
       "1                      22            49.574949                21.465380   \n",
       "3                      23            49.574949                39.082511   \n",
       "4                      27            18.816215                39.684018   \n",
       "5                      27            18.816215               251.627369   \n",
       "...                   ...                  ...                      ...   \n",
       "49993                   6            60.964772                71.794421   \n",
       "49994                   6            60.964772                50.846847   \n",
       "49997                  32            35.104023             10000.000000   \n",
       "49998                  32            35.104023                97.598580   \n",
       "49999                  32            35.104023               220.457878   \n",
       "\n",
       "       monthly_balance  !@9#%8  High_spent_Large_value_payments  \\\n",
       "0           186.266702       0                                0   \n",
       "1           361.444004       0                                0   \n",
       "3           343.826873       0                                0   \n",
       "4           485.298434       0                                1   \n",
       "5           303.355083       0                                0   \n",
       "...                ...     ...                              ...   \n",
       "49993       350.231473       0                                0   \n",
       "49994       341.179047       0                                0   \n",
       "49997       349.726332       0                                0   \n",
       "49998       463.238981       0                                0   \n",
       "49999       360.379683       0                                0   \n",
       "\n",
       "       High_spent_Medium_value_payments  High_spent_Small_value_payments  \\\n",
       "0                                     0                                0   \n",
       "1                                     1                                0   \n",
       "3                                     1                                0   \n",
       "4                                     0                                0   \n",
       "5                                     0                                0   \n",
       "...                                 ...                              ...   \n",
       "49993                                 0                                0   \n",
       "49994                                 0                                1   \n",
       "49997                                 0                                0   \n",
       "49998                                 0                                1   \n",
       "49999                                 0                                0   \n",
       "\n",
       "       Low_spent_Large_value_payments  Low_spent_Medium_value_payments  \\\n",
       "0                                   0                                0   \n",
       "1                                   0                                0   \n",
       "3                                   0                                0   \n",
       "4                                   0                                0   \n",
       "5                                   1                                0   \n",
       "...                               ...                              ...   \n",
       "49993                               0                                0   \n",
       "49994                               0                                0   \n",
       "49997                               1                                0   \n",
       "49998                               0                                0   \n",
       "49999                               0                                1   \n",
       "\n",
       "       Low_spent_Small_value_payments  Bad  Good  Standard  _  NM  No  Yes  \n",
       "0                                   1    0     1         0  0   0   1    0  \n",
       "1                                   0    0     1         0  0   0   1    0  \n",
       "3                                   0    0     1         0  0   0   1    0  \n",
       "4                                   0    0     1         0  0   0   1    0  \n",
       "5                                   0    0     1         0  0   0   1    0  \n",
       "...                               ...  ...   ...       ... ..  ..  ..  ...  \n",
       "49993                               1    1     0         0  0   0   0    1  \n",
       "49994                               0    1     0         0  0   0   0    1  \n",
       "49997                               0    0     1         0  0   0   1    0  \n",
       "49998                               0    0     1         0  0   0   1    0  \n",
       "49999                               0    0     0         0  1   0   1    0  \n",
       "\n",
       "[39135 rows x 28 columns]"
      ]
     },
     "execution_count": 40,
     "metadata": {},
     "output_type": "execute_result"
    }
   ],
   "source": [
    "test"
   ]
  },
  {
   "cell_type": "markdown",
   "id": "208a41a2",
   "metadata": {},
   "source": [
    "## A little bit more data cleaning\n",
    "There are a few more inconsistencies in the data which we can update to make our prediction as accurate as possible.\n",
    "\n",
    "- Line 99997 suggests that the interest rate of a credit card can go as high as 5729 which does not seem realistic\n",
    "- A lot of dashed values \"-\" in the credit_mix column"
   ]
  },
  {
   "cell_type": "code",
   "execution_count": 41,
   "id": "5e00b8c7",
   "metadata": {
    "scrolled": false
   },
   "outputs": [
    {
     "data": {
      "image/png": "[encoded data removed]",
      "text/plain": [
       "<Figure size 1800x720 with 9 Axes>"
      ]
     },
     "metadata": {
      "needs_background": "light"
     },
     "output_type": "display_data"
    },
    {
     "name": "stdout",
     "output_type": "stream",
     "text": [
      "Maximum of num_bank_accounts is: 1798\n",
      "Minimum of num_bank_accounts is: -1\n",
      "\n",
      "\n",
      "Maximum of num_credit_card is: 1499\n",
      "Minimum of num_credit_card is: 0\n",
      "\n",
      "\n",
      "Maximum of interest_rate is: 5797\n",
      "Minimum of interest_rate is: 1\n",
      "\n",
      "\n",
      "Maximum of num_of_loan is: 1485\n",
      "Minimum of num_of_loan is: -100\n",
      "\n",
      "\n",
      "Maximum of delay_from_due_date is: 67\n",
      "Minimum of delay_from_due_date is: -5\n",
      "\n",
      "\n",
      "Maximum of num_of_delayed_payment is: 4397\n",
      "Minimum of num_of_delayed_payment is: -3\n",
      "\n",
      "\n",
      "Maximum of changed_credit_limit is: 36.97\n",
      "Minimum of changed_credit_limit is: -6.48\n",
      "\n",
      "\n",
      "Maximum of credit_utilization_ratio is: 50.00000000000001\n",
      "Minimum of credit_utilization_ratio is: 20.88125003902868\n",
      "\n",
      "\n",
      "Maximum of credit_history_age is: 33\n",
      "Minimum of credit_history_age is: 0\n",
      "\n",
      "\n"
     ]
    }
   ],
   "source": [
    "## Check odd values in columns\n",
    "columns = ['num_bank_accounts','num_credit_card','interest_rate','num_of_loan','delay_from_due_date',\n",
    "          'num_of_delayed_payment','changed_credit_limit','credit_utilization_ratio','credit_history_age']\n",
    "\n",
    "plt.figure(figsize=(25,10))\n",
    "for ind,column in enumerate(columns):\n",
    "    plt.subplot(2,5,ind+1)\n",
    "    plt.hist(train[column],bins=20,range=(train[column].min(),train[column].max()),log=True,color='firebrick',ec=\"k\")\n",
    "    plt.title(column)\n",
    "plt.show()\n",
    "\n",
    "for ind,column in enumerate(columns):\n",
    "    print('Maximum of '+ column + ' is: ' + str(train[column].max()))\n",
    "    print('Minimum of '+ column + ' is: ' + str(train[column].min()))\n",
    "    print('\\n')"
   ]
  },
  {
   "cell_type": "markdown",
   "id": "1c5d77c6",
   "metadata": {},
   "source": [
    "From the data above, we can see that delay_from_due_date, changed_credit_limit, credit_utilization_ratio, and credit_history_age seem to have reasonable values, apart from the negative values in some of them. A negative value from changed_credit_limit is what we can assume to be one's credit limit being lowered which we can keep. a negative value from delay_from_due_date is what we can assume to be payments made early but that is a bold assumption, so we will get rid of rows with negative values, same with num_of_delayed_payment."
   ]
  },
  {
   "cell_type": "code",
   "execution_count": 42,
   "id": "02eb7313",
   "metadata": {},
   "outputs": [],
   "source": [
    "train = train[(train['num_of_delayed_payment']>=0) & (train['delay_from_due_date']>=0)]\n",
    "test = test[(test['num_of_delayed_payment']>=0) & (test['delay_from_due_date']>=0)]"
   ]
  },
  {
   "cell_type": "markdown",
   "id": "5109a5e6",
   "metadata": {},
   "source": [
    "Now we should focus on the upper outliers for the other five columns, which have a lot of unrealistic entries."
   ]
  },
  {
   "cell_type": "code",
   "execution_count": 43,
   "id": "3743c5fa",
   "metadata": {},
   "outputs": [
    {
     "data": {
      "text/html": [
       "<div>\n",
       "<style scoped>\n",
       "    .dataframe tbody tr th:only-of-type {\n",
       "        vertical-align: middle;\n",
       "    }\n",
       "\n",
       "    .dataframe tbody tr th {\n",
       "        vertical-align: top;\n",
       "    }\n",
       "\n",
       "    .dataframe thead th {\n",
       "        text-align: right;\n",
       "    }\n",
       "</style>\n",
       "<table border=\"1\" class=\"dataframe\">\n",
       "  <thead>\n",
       "    <tr style=\"text-align: right;\">\n",
       "      <th></th>\n",
       "      <th>num_bank_accounts</th>\n",
       "      <th>num_credit_card</th>\n",
       "      <th>interest_rate</th>\n",
       "      <th>num_of_loan</th>\n",
       "      <th>num_of_delayed_payment</th>\n",
       "    </tr>\n",
       "  </thead>\n",
       "  <tbody>\n",
       "    <tr>\n",
       "      <th>count</th>\n",
       "      <td>77188.000000</td>\n",
       "      <td>77188.000000</td>\n",
       "      <td>77188.000000</td>\n",
       "      <td>77188.000000</td>\n",
       "      <td>77188.000000</td>\n",
       "    </tr>\n",
       "    <tr>\n",
       "      <th>mean</th>\n",
       "      <td>17.008136</td>\n",
       "      <td>22.834262</td>\n",
       "      <td>73.573742</td>\n",
       "      <td>2.952816</td>\n",
       "      <td>31.135332</td>\n",
       "    </tr>\n",
       "    <tr>\n",
       "      <th>std</th>\n",
       "      <td>116.666122</td>\n",
       "      <td>130.257597</td>\n",
       "      <td>471.550362</td>\n",
       "      <td>61.793420</td>\n",
       "      <td>226.188341</td>\n",
       "    </tr>\n",
       "    <tr>\n",
       "      <th>min</th>\n",
       "      <td>-1.000000</td>\n",
       "      <td>0.000000</td>\n",
       "      <td>1.000000</td>\n",
       "      <td>-100.000000</td>\n",
       "      <td>0.000000</td>\n",
       "    </tr>\n",
       "    <tr>\n",
       "      <th>25%</th>\n",
       "      <td>4.000000</td>\n",
       "      <td>4.000000</td>\n",
       "      <td>8.000000</td>\n",
       "      <td>1.000000</td>\n",
       "      <td>9.000000</td>\n",
       "    </tr>\n",
       "    <tr>\n",
       "      <th>50%</th>\n",
       "      <td>6.000000</td>\n",
       "      <td>6.000000</td>\n",
       "      <td>14.000000</td>\n",
       "      <td>3.000000</td>\n",
       "      <td>14.000000</td>\n",
       "    </tr>\n",
       "    <tr>\n",
       "      <th>75%</th>\n",
       "      <td>7.000000</td>\n",
       "      <td>7.000000</td>\n",
       "      <td>20.000000</td>\n",
       "      <td>5.000000</td>\n",
       "      <td>18.000000</td>\n",
       "    </tr>\n",
       "    <tr>\n",
       "      <th>max</th>\n",
       "      <td>1798.000000</td>\n",
       "      <td>1499.000000</td>\n",
       "      <td>5797.000000</td>\n",
       "      <td>1485.000000</td>\n",
       "      <td>4397.000000</td>\n",
       "    </tr>\n",
       "  </tbody>\n",
       "</table>\n",
       "</div>"
      ],
      "text/plain": [
       "       num_bank_accounts  num_credit_card  interest_rate   num_of_loan  \\\n",
       "count       77188.000000     77188.000000   77188.000000  77188.000000   \n",
       "mean           17.008136        22.834262      73.573742      2.952816   \n",
       "std           116.666122       130.257597     471.550362     61.793420   \n",
       "min            -1.000000         0.000000       1.000000   -100.000000   \n",
       "25%             4.000000         4.000000       8.000000      1.000000   \n",
       "50%             6.000000         6.000000      14.000000      3.000000   \n",
       "75%             7.000000         7.000000      20.000000      5.000000   \n",
       "max          1798.000000      1499.000000    5797.000000   1485.000000   \n",
       "\n",
       "       num_of_delayed_payment  \n",
       "count            77188.000000  \n",
       "mean                31.135332  \n",
       "std                226.188341  \n",
       "min                  0.000000  \n",
       "25%                  9.000000  \n",
       "50%                 14.000000  \n",
       "75%                 18.000000  \n",
       "max               4397.000000  "
      ]
     },
     "execution_count": 43,
     "metadata": {},
     "output_type": "execute_result"
    }
   ],
   "source": [
    "cols = ['num_bank_accounts','num_credit_card','interest_rate','num_of_loan','num_of_delayed_payment']\n",
    "train[cols].describe()"
   ]
  },
  {
   "cell_type": "code",
   "execution_count": 44,
   "id": "af74689e",
   "metadata": {
    "scrolled": true
   },
   "outputs": [
    {
     "name": "stdout",
     "output_type": "stream",
     "text": [
      "Upper outlier limit for num_bank_accounts: 11.5\n",
      "Lower outlier limit for num_bank_accounts: -0.5\n",
      "\n",
      "\n",
      "Upper outlier limit for num_credit_card: 11.5\n",
      "Lower outlier limit for num_credit_card: -0.5\n",
      "\n",
      "\n",
      "Upper outlier limit for interest_rate: 38.0\n",
      "Lower outlier limit for interest_rate: -10.0\n",
      "\n",
      "\n",
      "Upper outlier limit for num_of_loan: 11.0\n",
      "Lower outlier limit for num_of_loan: -5.0\n",
      "\n",
      "\n",
      "Upper outlier limit for num_of_delayed_payment: 31.5\n",
      "Lower outlier limit for num_of_delayed_payment: -4.5\n",
      "\n",
      "\n"
     ]
    }
   ],
   "source": [
    "for col in cols:\n",
    "    print('Upper outlier limit for ' + col + ': ' + str(train[col].describe()[6]+(train[col].describe()[6]-train[col].describe()[4])*1.5))\n",
    "    print('Lower outlier limit for ' + col + ': '+ str(train[col].describe()[4]-(train[col].describe()[6]-train[col].describe()[4])*1.5))\n",
    "    print('\\n')"
   ]
  },
  {
   "cell_type": "code",
   "execution_count": 45,
   "id": "774175a8",
   "metadata": {},
   "outputs": [
    {
     "name": "stdout",
     "output_type": "stream",
     "text": [
      "11.5\n"
     ]
    }
   ],
   "source": [
    "print(upper_outlier(train,'num_bank_accounts'))"
   ]
  },
  {
   "cell_type": "markdown",
   "id": "5f5e65b8",
   "metadata": {},
   "source": [
    "Now, we should also get rid of the negative values from these columns, and get rid of extreme outliers."
   ]
  },
  {
   "cell_type": "code",
   "execution_count": 46,
   "id": "6fb8d439",
   "metadata": {},
   "outputs": [],
   "source": [
    "train = train[(train['num_bank_accounts']>=0) & (train['num_bank_accounts']<=upper_outlier(train,'num_bank_accounts')) &\n",
    "             (train['num_credit_card']>=0) & (train['num_credit_card']<=upper_outlier(train,'num_credit_card')) &\n",
    "             (train['interest_rate']>=0) & (train['interest_rate']<=upper_outlier(train,'interest_rate')) &\n",
    "             (train['num_of_loan']>=0) & (train['num_of_loan']<=upper_outlier(train,'num_of_loan')) &\n",
    "             (train['num_of_delayed_payment']>=0) & (train['num_of_delayed_payment']<=upper_outlier(train,'num_of_delayed_payment'))]\n",
    "\n",
    "test = test[(test['num_bank_accounts']>=0) & (test['num_bank_accounts']<=upper_outlier(test,'num_bank_accounts')) &\n",
    "             (test['num_credit_card']>=0) & (test['num_credit_card']<=upper_outlier(test,'num_credit_card')) &\n",
    "             (test['interest_rate']>=0) & (test['interest_rate']<=upper_outlier(test,'interest_rate')) &\n",
    "             (test['num_of_loan']>=0) & (test['num_of_loan']<=upper_outlier(test,'num_of_loan')) &\n",
    "             (test['num_of_delayed_payment']>=0) & (test['num_of_delayed_payment']<=upper_outlier(test,'num_of_delayed_payment'))]"
   ]
  },
  {
   "cell_type": "code",
   "execution_count": 47,
   "id": "65387c04",
   "metadata": {},
   "outputs": [
    {
     "data": {
      "image/png": "[encoded data removed]",
      "text/plain": [
       "<Figure size 1800x720 with 9 Axes>"
      ]
     },
     "metadata": {
      "needs_background": "light"
     },
     "output_type": "display_data"
    },
    {
     "name": "stdout",
     "output_type": "stream",
     "text": [
      "Maximum of num_bank_accounts is: 11\n",
      "Minimum of num_bank_accounts is: 0\n",
      "\n",
      "\n",
      "Maximum of num_credit_card is: 11\n",
      "Minimum of num_credit_card is: 0\n",
      "\n",
      "\n",
      "Maximum of interest_rate is: 34\n",
      "Minimum of interest_rate is: 1\n",
      "\n",
      "\n",
      "Maximum of num_of_loan is: 9\n",
      "Minimum of num_of_loan is: 0\n",
      "\n",
      "\n",
      "Maximum of delay_from_due_date is: 67\n",
      "Minimum of delay_from_due_date is: 0\n",
      "\n",
      "\n",
      "Maximum of num_of_delayed_payment is: 28\n",
      "Minimum of num_of_delayed_payment is: 0\n",
      "\n",
      "\n",
      "Maximum of changed_credit_limit is: 36.29\n",
      "Minimum of changed_credit_limit is: -6.48\n",
      "\n",
      "\n",
      "Maximum of credit_utilization_ratio is: 50.00000000000001\n",
      "Minimum of credit_utilization_ratio is: 20.88125003902868\n",
      "\n",
      "\n",
      "Maximum of credit_history_age is: 33\n",
      "Minimum of credit_history_age is: 0\n",
      "\n",
      "\n"
     ]
    }
   ],
   "source": [
    "## Check odd values in columns\n",
    "columns = ['num_bank_accounts','num_credit_card','interest_rate','num_of_loan','delay_from_due_date',\n",
    "          'num_of_delayed_payment','changed_credit_limit','credit_utilization_ratio','credit_history_age']\n",
    "\n",
    "plt.figure(figsize=(25,10))\n",
    "for ind,column in enumerate(columns):\n",
    "    plt.subplot(2,5,ind+1)\n",
    "    plt.hist(train[column],bins=20,log=True,color=\"seagreen\",ec=\"k\")\n",
    "    plt.title(column)\n",
    "plt.show()\n",
    "\n",
    "for ind,column in enumerate(columns):\n",
    "    print('Maximum of '+ column + ' is: ' + str(train[column].max()))\n",
    "    print('Minimum of '+ column + ' is: ' + str(train[column].min()))\n",
    "    print('\\n')"
   ]
  },
  {
   "cell_type": "markdown",
   "id": "c13d1c28",
   "metadata": {},
   "source": [
    "Data is much better with better distributions."
   ]
  },
  {
   "cell_type": "markdown",
   "id": "2941ecc6",
   "metadata": {},
   "source": [
    "Drop columns that are heavily correlated with eachother"
   ]
  },
  {
   "cell_type": "markdown",
   "id": "361cc2f2",
   "metadata": {},
   "source": [
    "#### Avoid Multicollinearity\n",
    "We should avoid heavily correlated features since that will mess up our model"
   ]
  },
  {
   "cell_type": "code",
   "execution_count": 48,
   "id": "8ff84a85",
   "metadata": {
    "scrolled": false
   },
   "outputs": [
    {
     "data": {
      "image/png": "[encoded data removed]",
      "text/plain": [
       "<Figure size 720x720 with 2 Axes>"
      ]
     },
     "metadata": {
      "needs_background": "light"
     },
     "output_type": "display_data"
    }
   ],
   "source": [
    "matrix_2 = np.triu(train.corr())\n",
    "plt.figure(figsize=(10,10))\n",
    "sns.heatmap(train.corr(), annot = False, cmap=\"mako\", mask=matrix_2, vmin=-1.0, vmax=1.0)\n",
    "plt.show()"
   ]
  },
  {
   "cell_type": "markdown",
   "id": "30167260",
   "metadata": {},
   "source": [
    "As we can see, we have a lot of correlated variables, in the next step, we can use an RFECV to eliminate the worst features for our model"
   ]
  },
  {
   "cell_type": "markdown",
   "id": "3791d176",
   "metadata": {},
   "source": [
    "## Predictions"
   ]
  },
  {
   "cell_type": "code",
   "execution_count": 49,
   "id": "af263bc1",
   "metadata": {},
   "outputs": [],
   "source": [
    "feature_cols = list(train.columns)\n",
    "del feature_cols[feature_cols.index('credit_score')]"
   ]
  },
  {
   "cell_type": "code",
   "execution_count": 50,
   "id": "44746982",
   "metadata": {},
   "outputs": [
    {
     "data": {
      "text/plain": [
       "['annual_income',\n",
       " 'num_bank_accounts',\n",
       " 'num_credit_card',\n",
       " 'interest_rate',\n",
       " 'num_of_loan',\n",
       " 'delay_from_due_date',\n",
       " 'num_of_delayed_payment',\n",
       " 'changed_credit_limit',\n",
       " 'outstanding_debt',\n",
       " 'credit_utilization_ratio',\n",
       " 'credit_history_age',\n",
       " 'total_emi_per_month',\n",
       " 'amount_invested_monthly',\n",
       " 'monthly_balance',\n",
       " '!@9#%8',\n",
       " 'High_spent_Large_value_payments',\n",
       " 'High_spent_Medium_value_payments',\n",
       " 'High_spent_Small_value_payments',\n",
       " 'Low_spent_Large_value_payments',\n",
       " 'Low_spent_Medium_value_payments',\n",
       " 'Low_spent_Small_value_payments',\n",
       " 'Bad',\n",
       " 'Good',\n",
       " 'Standard',\n",
       " '_',\n",
       " 'NM',\n",
       " 'No',\n",
       " 'Yes']"
      ]
     },
     "execution_count": 50,
     "metadata": {},
     "output_type": "execute_result"
    }
   ],
   "source": [
    "feature_cols"
   ]
  },
  {
   "cell_type": "code",
   "execution_count": 51,
   "id": "386dd2ff",
   "metadata": {},
   "outputs": [],
   "source": [
    "from sklearn.ensemble import RandomForestClassifier\n",
    "from sklearn.feature_selection import RFECV"
   ]
  },
  {
   "cell_type": "code",
   "execution_count": 52,
   "id": "214af54e",
   "metadata": {},
   "outputs": [],
   "source": [
    "train['credit_score'] = train['credit_score'].astype('int')"
   ]
  },
  {
   "cell_type": "markdown",
   "id": "d0f13484",
   "metadata": {},
   "source": [
    "#### Use RFECV to find best features\n",
    "I have already done a randomized search on 3 models and found the best one, we will now do a RFECV to see which features give us the best results"
   ]
  },
  {
   "cell_type": "code",
   "execution_count": 53,
   "id": "d0d14688",
   "metadata": {},
   "outputs": [
    {
     "data": {
      "text/plain": [
       "RFECV(cv=5,\n",
       "      estimator=RandomForestClassifier(max_depth=10, min_samples_split=10,\n",
       "                                       n_estimators=50))"
      ]
     },
     "execution_count": 53,
     "metadata": {},
     "output_type": "execute_result"
    }
   ],
   "source": [
    "rfe = RFECV(RandomForestClassifier(n_estimators=50,min_samples_split=10,min_samples_leaf=1,max_depth=10,criterion='gini'),cv=5)\n",
    "rfe.fit(train[feature_cols],train['credit_score'])"
   ]
  },
  {
   "cell_type": "code",
   "execution_count": 54,
   "id": "90c6d750",
   "metadata": {},
   "outputs": [
    {
     "data": {
      "text/plain": [
       "array([ True,  True,  True,  True,  True,  True,  True,  True,  True,\n",
       "       False,  True,  True, False, False, False, False, False, False,\n",
       "       False, False, False,  True,  True,  True, False, False,  True,\n",
       "        True])"
      ]
     },
     "execution_count": 54,
     "metadata": {},
     "output_type": "execute_result"
    }
   ],
   "source": [
    "feature_mask = rfe.support_\n",
    "feature_mask"
   ]
  },
  {
   "cell_type": "code",
   "execution_count": 67,
   "id": "8deadedf",
   "metadata": {},
   "outputs": [],
   "source": [
    "cols_to_keep = []\n",
    "for mask, col_name in zip(feature_mask,feature_cols):\n",
    "    if mask == True:\n",
    "        cols_to_keep.append(col_name)"
   ]
  },
  {
   "cell_type": "code",
   "execution_count": 68,
   "id": "603eb91d",
   "metadata": {},
   "outputs": [
    {
     "data": {
      "text/plain": [
       "['annual_income',\n",
       " 'num_bank_accounts',\n",
       " 'num_credit_card',\n",
       " 'interest_rate',\n",
       " 'num_of_loan',\n",
       " 'delay_from_due_date',\n",
       " 'num_of_delayed_payment',\n",
       " 'changed_credit_limit',\n",
       " 'outstanding_debt',\n",
       " 'credit_history_age',\n",
       " 'total_emi_per_month',\n",
       " 'Bad',\n",
       " 'Good',\n",
       " 'Standard',\n",
       " 'No',\n",
       " 'Yes']"
      ]
     },
     "execution_count": 68,
     "metadata": {},
     "output_type": "execute_result"
    }
   ],
   "source": [
    "cols_to_keep"
   ]
  },
  {
   "cell_type": "markdown",
   "id": "8df0cc19",
   "metadata": {},
   "source": [
    "These were the most useful columns for the model, the rest were dropped"
   ]
  },
  {
   "cell_type": "code",
   "execution_count": 57,
   "id": "e2363715",
   "metadata": {},
   "outputs": [
    {
     "data": {
      "image/png": "[encoded data removed]",
      "text/plain": [
       "<Figure size 432x288 with 1 Axes>"
      ]
     },
     "metadata": {
      "needs_background": "light"
     },
     "output_type": "display_data"
    }
   ],
   "source": [
    "plt.figure()\n",
    "plt.xlabel(\"Number of features\")\n",
    "plt.ylabel(\"Accuracy score\")\n",
    "plt.plot(range(1, len(rfe.grid_scores_) + 1), rfe.grid_scores_)\n",
    "plt.show()"
   ]
  },
  {
   "cell_type": "code",
   "execution_count": 58,
   "id": "577b7d92",
   "metadata": {},
   "outputs": [
    {
     "name": "stdout",
     "output_type": "stream",
     "text": [
      "0.7067630209836234\n",
      "16\n"
     ]
    }
   ],
   "source": [
    "print(max(rfe.grid_scores_))\n",
    "print(rfe.n_features_)"
   ]
  },
  {
   "cell_type": "markdown",
   "id": "c6b0763e",
   "metadata": {},
   "source": [
    "As we can see, 16 features yields our highest accuracy of around 71%"
   ]
  },
  {
   "cell_type": "markdown",
   "id": "20664a48",
   "metadata": {},
   "source": [
    "## Final Steps"
   ]
  },
  {
   "cell_type": "markdown",
   "id": "a5fd853b",
   "metadata": {},
   "source": [
    "#### Test df_transform to check if it transforms a dataframe correctly, comparing it to the test dataframe we have been transforming throughout the project"
   ]
  },
  {
   "cell_type": "code",
   "execution_count": 59,
   "id": "ed6941a3",
   "metadata": {
    "scrolled": true
   },
   "outputs": [
    {
     "data": {
      "text/plain": [
       "True"
      ]
     },
     "execution_count": 59,
     "metadata": {},
     "output_type": "execute_result"
    }
   ],
   "source": [
    "test2 = pd.read_csv('test.csv')\n",
    "test2 = df_transform(test2)\n",
    "test2.equals(test)"
   ]
  },
  {
   "cell_type": "markdown",
   "id": "2859a921",
   "metadata": {},
   "source": [
    "Our function works!"
   ]
  },
  {
   "cell_type": "markdown",
   "id": "10a04558",
   "metadata": {},
   "source": [
    "#### Predicting on the test dataframe"
   ]
  },
  {
   "cell_type": "code",
   "execution_count": 60,
   "id": "3bdad0e8",
   "metadata": {},
   "outputs": [],
   "source": [
    "predictions = rfe.predict(test)"
   ]
  },
  {
   "cell_type": "code",
   "execution_count": 61,
   "id": "404027b1",
   "metadata": {},
   "outputs": [
    {
     "name": "stdout",
     "output_type": "stream",
     "text": [
      "Counter({1: 18802, 0: 9132, 2: 6693})\n"
     ]
    }
   ],
   "source": [
    "from collections import Counter\n",
    "count = Counter(predictions)\n",
    "print(count)"
   ]
  },
  {
   "cell_type": "code",
   "execution_count": 62,
   "id": "020ccdab",
   "metadata": {},
   "outputs": [
    {
     "data": {
      "text/plain": [
       "1    37001\n",
       "0    20265\n",
       "2    11876\n",
       "Name: credit_score, dtype: int64"
      ]
     },
     "execution_count": 62,
     "metadata": {},
     "output_type": "execute_result"
    }
   ],
   "source": [
    "train['credit_score'].value_counts()"
   ]
  },
  {
   "cell_type": "code",
   "execution_count": 63,
   "id": "76b6fb58",
   "metadata": {},
   "outputs": [
    {
     "data": {
      "image/png": "[encoded data removed]",
      "text/plain": [
       "<Figure size 720x720 with 2 Axes>"
      ]
     },
     "metadata": {},
     "output_type": "display_data"
    }
   ],
   "source": [
    "plt.figure(figsize=(10,10))\n",
    "plt.subplot(1,2,1)\n",
    "plt.pie(train['credit_score'].value_counts(), labels=['Standard','Bad','Good'], \n",
    "        colors=['lightblue', 'lightcoral', 'lightgreen'], \n",
    "        autopct='%1.1f%%', shadow=True, startangle=140)\n",
    "plt.title('Train Dataset Credit Score Distribution')\n",
    "\n",
    "plt.subplot(1,2,2)\n",
    "plt.pie(list(count.values()), labels=['Good','Standard','Bad'],colors=['lightgreen', 'lightblue', 'lightcoral'], \n",
    "        autopct='%1.1f%%', shadow=True, startangle=75)\n",
    "plt.title('Test Dataset Credit Score Distribution')\n",
    "plt.show()"
   ]
  },
  {
   "cell_type": "markdown",
   "id": "87ccff8c",
   "metadata": {},
   "source": [
    "## Conclusion\n",
    "As we can see, our random forest model works very well as the proportion of bad, standard, and good are very similar to the training dataset, but it does tend to slightly underestimate bad (0) credit scores and slightly overestimate the standard (1) credit scores. Overall, this model works very well. Since there is no credit_score column in the test dataset, this distribution estimate should be good enough to know that this model works well."
   ]
  },
  {
   "cell_type": "markdown",
   "id": "4be60cf3",
   "metadata": {},
   "source": [
    "#### Save model"
   ]
  },
  {
   "cell_type": "code",
   "execution_count": 64,
   "id": "b4c56446",
   "metadata": {},
   "outputs": [
    {
     "data": {
      "text/plain": [
       "['credit_score_predictor.pkl']"
      ]
     },
     "execution_count": 64,
     "metadata": {},
     "output_type": "execute_result"
    }
   ],
   "source": [
    "import joblib\n",
    "joblib.dump(rfe, 'credit_score_predictor.pkl')"
   ]
  }
 ],
 "metadata": {
  "kernelspec": {
   "display_name": "Python 3 (ipykernel)",
   "language": "python",
   "name": "python3"
  },
  "language_info": {
   "codemirror_mode": {
    "name": "ipython",
    "version": 3
   },
   "file_extension": ".py",
   "mimetype": "text/x-python",
   "name": "python",
   "nbconvert_exporter": "python",
   "pygments_lexer": "ipython3",
   "version": "3.9.7"
  }
 },
 "nbformat": 4,
 "nbformat_minor": 5
}
